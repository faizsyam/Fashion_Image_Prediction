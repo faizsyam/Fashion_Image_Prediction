{
 "cells": [
  {
   "cell_type": "markdown",
   "metadata": {},
   "source": [
    "## Fashion Product Images\n",
    "In this project we will be predicting a fashion product image's category and gender. The product' s category will be divided into three, Main Category, Sub Category, and Article Type. The learning algorithm that we will be using is only limited to Random Forest and XGBoost."
   ]
  },
  {
   "cell_type": "code",
   "execution_count": 1,
   "metadata": {},
   "outputs": [],
   "source": [
    "from sklearn.preprocessing import StandardScaler\n",
    "import matplotlib.pyplot as plt\n",
    "import matplotlib.image as mpimg\n",
    "import numpy as np \n",
    "import pandas as pd \n",
    "import seaborn as sns\n",
    "import os "
   ]
  },
  {
   "cell_type": "code",
   "execution_count": 2,
   "metadata": {},
   "outputs": [
    {
     "name": "stdout",
     "output_type": "stream",
     "text": [
      "['images', 'images.csv', 'styles', 'styles.csv']\n"
     ]
    }
   ],
   "source": [
    "# Import Dataset\n",
    "DATASET_PATH = \"/Purwadhika/FINAL PROJECT/test1/fashion-dataset/fashion-dataset/\"\n",
    "print(os.listdir(DATASET_PATH))"
   ]
  },
  {
   "cell_type": "markdown",
   "metadata": {},
   "source": [
    "### Load Data"
   ]
  },
  {
   "cell_type": "code",
   "execution_count": 3,
   "metadata": {},
   "outputs": [
    {
     "data": {
      "text/html": [
       "<div>\n",
       "<style scoped>\n",
       "    .dataframe tbody tr th:only-of-type {\n",
       "        vertical-align: middle;\n",
       "    }\n",
       "\n",
       "    .dataframe tbody tr th {\n",
       "        vertical-align: top;\n",
       "    }\n",
       "\n",
       "    .dataframe thead th {\n",
       "        text-align: right;\n",
       "    }\n",
       "</style>\n",
       "<table border=\"1\" class=\"dataframe\">\n",
       "  <thead>\n",
       "    <tr style=\"text-align: right;\">\n",
       "      <th></th>\n",
       "      <th>0</th>\n",
       "      <th>1</th>\n",
       "      <th>2</th>\n",
       "      <th>3</th>\n",
       "      <th>4</th>\n",
       "      <th>5</th>\n",
       "      <th>6</th>\n",
       "      <th>7</th>\n",
       "      <th>8</th>\n",
       "      <th>9</th>\n",
       "      <th>...</th>\n",
       "      <th>2038</th>\n",
       "      <th>2039</th>\n",
       "      <th>2040</th>\n",
       "      <th>2041</th>\n",
       "      <th>2042</th>\n",
       "      <th>2043</th>\n",
       "      <th>2044</th>\n",
       "      <th>2045</th>\n",
       "      <th>2046</th>\n",
       "      <th>2047</th>\n",
       "    </tr>\n",
       "  </thead>\n",
       "  <tbody>\n",
       "    <tr>\n",
       "      <td>0</td>\n",
       "      <td>5.649736</td>\n",
       "      <td>9.132717</td>\n",
       "      <td>0.000000</td>\n",
       "      <td>8.552013</td>\n",
       "      <td>0.000000</td>\n",
       "      <td>0.106650</td>\n",
       "      <td>16.067930</td>\n",
       "      <td>2.754838</td>\n",
       "      <td>0.000000</td>\n",
       "      <td>0.000000</td>\n",
       "      <td>...</td>\n",
       "      <td>1.330357</td>\n",
       "      <td>0.111984</td>\n",
       "      <td>9.504754</td>\n",
       "      <td>4.337305</td>\n",
       "      <td>0.074342</td>\n",
       "      <td>0.000000</td>\n",
       "      <td>7.377696</td>\n",
       "      <td>0.026429</td>\n",
       "      <td>0.000000</td>\n",
       "      <td>8.451321</td>\n",
       "    </tr>\n",
       "    <tr>\n",
       "      <td>1</td>\n",
       "      <td>0.000000</td>\n",
       "      <td>2.788229</td>\n",
       "      <td>0.754297</td>\n",
       "      <td>0.000000</td>\n",
       "      <td>2.539878</td>\n",
       "      <td>3.851845</td>\n",
       "      <td>3.080238</td>\n",
       "      <td>0.000000</td>\n",
       "      <td>0.641055</td>\n",
       "      <td>1.447005</td>\n",
       "      <td>...</td>\n",
       "      <td>0.159295</td>\n",
       "      <td>13.468638</td>\n",
       "      <td>2.867096</td>\n",
       "      <td>1.598586</td>\n",
       "      <td>2.556869</td>\n",
       "      <td>0.378737</td>\n",
       "      <td>5.992522</td>\n",
       "      <td>0.653195</td>\n",
       "      <td>13.689517</td>\n",
       "      <td>11.015627</td>\n",
       "    </tr>\n",
       "    <tr>\n",
       "      <td>2</td>\n",
       "      <td>5.914846</td>\n",
       "      <td>2.232292</td>\n",
       "      <td>0.000000</td>\n",
       "      <td>11.802919</td>\n",
       "      <td>0.000000</td>\n",
       "      <td>0.000000</td>\n",
       "      <td>8.595102</td>\n",
       "      <td>3.762110</td>\n",
       "      <td>0.000000</td>\n",
       "      <td>1.319177</td>\n",
       "      <td>...</td>\n",
       "      <td>17.136992</td>\n",
       "      <td>0.000000</td>\n",
       "      <td>3.226575</td>\n",
       "      <td>1.980115</td>\n",
       "      <td>0.000000</td>\n",
       "      <td>0.000000</td>\n",
       "      <td>6.165443</td>\n",
       "      <td>0.948540</td>\n",
       "      <td>1.757253</td>\n",
       "      <td>1.303848</td>\n",
       "    </tr>\n",
       "    <tr>\n",
       "      <td>3</td>\n",
       "      <td>0.861216</td>\n",
       "      <td>3.639449</td>\n",
       "      <td>0.000000</td>\n",
       "      <td>3.721268</td>\n",
       "      <td>0.000000</td>\n",
       "      <td>0.000000</td>\n",
       "      <td>0.704272</td>\n",
       "      <td>1.156900</td>\n",
       "      <td>1.219262</td>\n",
       "      <td>2.974664</td>\n",
       "      <td>...</td>\n",
       "      <td>4.385935</td>\n",
       "      <td>3.835477</td>\n",
       "      <td>3.504012</td>\n",
       "      <td>17.089266</td>\n",
       "      <td>0.000000</td>\n",
       "      <td>0.000000</td>\n",
       "      <td>2.154345</td>\n",
       "      <td>2.161019</td>\n",
       "      <td>0.000000</td>\n",
       "      <td>7.274156</td>\n",
       "    </tr>\n",
       "    <tr>\n",
       "      <td>4</td>\n",
       "      <td>1.039733</td>\n",
       "      <td>9.232069</td>\n",
       "      <td>0.000000</td>\n",
       "      <td>1.483310</td>\n",
       "      <td>0.000000</td>\n",
       "      <td>0.000000</td>\n",
       "      <td>0.986046</td>\n",
       "      <td>3.571916</td>\n",
       "      <td>0.619291</td>\n",
       "      <td>0.646493</td>\n",
       "      <td>...</td>\n",
       "      <td>0.632879</td>\n",
       "      <td>1.290295</td>\n",
       "      <td>6.424055</td>\n",
       "      <td>0.000000</td>\n",
       "      <td>0.581709</td>\n",
       "      <td>0.000000</td>\n",
       "      <td>18.104776</td>\n",
       "      <td>0.000000</td>\n",
       "      <td>0.000000</td>\n",
       "      <td>0.000000</td>\n",
       "    </tr>\n",
       "    <tr>\n",
       "      <td>...</td>\n",
       "      <td>...</td>\n",
       "      <td>...</td>\n",
       "      <td>...</td>\n",
       "      <td>...</td>\n",
       "      <td>...</td>\n",
       "      <td>...</td>\n",
       "      <td>...</td>\n",
       "      <td>...</td>\n",
       "      <td>...</td>\n",
       "      <td>...</td>\n",
       "      <td>...</td>\n",
       "      <td>...</td>\n",
       "      <td>...</td>\n",
       "      <td>...</td>\n",
       "      <td>...</td>\n",
       "      <td>...</td>\n",
       "      <td>...</td>\n",
       "      <td>...</td>\n",
       "      <td>...</td>\n",
       "      <td>...</td>\n",
       "      <td>...</td>\n",
       "    </tr>\n",
       "    <tr>\n",
       "      <td>22651</td>\n",
       "      <td>3.165389</td>\n",
       "      <td>37.920837</td>\n",
       "      <td>8.676129</td>\n",
       "      <td>0.000000</td>\n",
       "      <td>2.033258</td>\n",
       "      <td>1.412931</td>\n",
       "      <td>2.870075</td>\n",
       "      <td>1.567106</td>\n",
       "      <td>2.295701</td>\n",
       "      <td>1.007221</td>\n",
       "      <td>...</td>\n",
       "      <td>3.339962</td>\n",
       "      <td>1.700938</td>\n",
       "      <td>0.000000</td>\n",
       "      <td>2.572877</td>\n",
       "      <td>4.052027</td>\n",
       "      <td>0.000000</td>\n",
       "      <td>3.152189</td>\n",
       "      <td>4.633288</td>\n",
       "      <td>7.057969</td>\n",
       "      <td>24.706306</td>\n",
       "    </tr>\n",
       "    <tr>\n",
       "      <td>22652</td>\n",
       "      <td>0.000000</td>\n",
       "      <td>34.038080</td>\n",
       "      <td>7.112828</td>\n",
       "      <td>0.579148</td>\n",
       "      <td>0.936001</td>\n",
       "      <td>1.200150</td>\n",
       "      <td>1.739207</td>\n",
       "      <td>0.960047</td>\n",
       "      <td>1.091176</td>\n",
       "      <td>0.000000</td>\n",
       "      <td>...</td>\n",
       "      <td>4.406452</td>\n",
       "      <td>2.136025</td>\n",
       "      <td>1.957094</td>\n",
       "      <td>0.223044</td>\n",
       "      <td>6.861034</td>\n",
       "      <td>0.365381</td>\n",
       "      <td>4.310698</td>\n",
       "      <td>0.000000</td>\n",
       "      <td>0.000000</td>\n",
       "      <td>13.679068</td>\n",
       "    </tr>\n",
       "    <tr>\n",
       "      <td>22653</td>\n",
       "      <td>2.970888</td>\n",
       "      <td>16.468681</td>\n",
       "      <td>1.361128</td>\n",
       "      <td>1.985318</td>\n",
       "      <td>0.276024</td>\n",
       "      <td>0.000000</td>\n",
       "      <td>7.925969</td>\n",
       "      <td>0.754939</td>\n",
       "      <td>1.195237</td>\n",
       "      <td>3.516096</td>\n",
       "      <td>...</td>\n",
       "      <td>12.242370</td>\n",
       "      <td>1.994565</td>\n",
       "      <td>0.573752</td>\n",
       "      <td>18.099092</td>\n",
       "      <td>1.855864</td>\n",
       "      <td>0.000000</td>\n",
       "      <td>1.042364</td>\n",
       "      <td>1.962243</td>\n",
       "      <td>2.990560</td>\n",
       "      <td>24.255568</td>\n",
       "    </tr>\n",
       "    <tr>\n",
       "      <td>22654</td>\n",
       "      <td>0.000000</td>\n",
       "      <td>0.104550</td>\n",
       "      <td>2.345689</td>\n",
       "      <td>4.225636</td>\n",
       "      <td>0.532689</td>\n",
       "      <td>8.728232</td>\n",
       "      <td>22.250055</td>\n",
       "      <td>0.378685</td>\n",
       "      <td>0.000000</td>\n",
       "      <td>1.664020</td>\n",
       "      <td>...</td>\n",
       "      <td>15.755005</td>\n",
       "      <td>5.040476</td>\n",
       "      <td>4.630026</td>\n",
       "      <td>0.000000</td>\n",
       "      <td>1.135384</td>\n",
       "      <td>9.161121</td>\n",
       "      <td>8.029400</td>\n",
       "      <td>8.505575</td>\n",
       "      <td>3.569754</td>\n",
       "      <td>2.585377</td>\n",
       "    </tr>\n",
       "    <tr>\n",
       "      <td>22655</td>\n",
       "      <td>0.842079</td>\n",
       "      <td>0.000000</td>\n",
       "      <td>1.244817</td>\n",
       "      <td>0.000000</td>\n",
       "      <td>11.121725</td>\n",
       "      <td>2.166986</td>\n",
       "      <td>0.622735</td>\n",
       "      <td>0.672296</td>\n",
       "      <td>0.000000</td>\n",
       "      <td>0.000000</td>\n",
       "      <td>...</td>\n",
       "      <td>1.614945</td>\n",
       "      <td>7.523007</td>\n",
       "      <td>3.160083</td>\n",
       "      <td>1.591909</td>\n",
       "      <td>3.097327</td>\n",
       "      <td>0.000000</td>\n",
       "      <td>4.282538</td>\n",
       "      <td>3.865760</td>\n",
       "      <td>10.444748</td>\n",
       "      <td>5.143378</td>\n",
       "    </tr>\n",
       "  </tbody>\n",
       "</table>\n",
       "<p>22656 rows × 2048 columns</p>\n",
       "</div>"
      ],
      "text/plain": [
       "              0          1         2          3          4         5  \\\n",
       "0      5.649736   9.132717  0.000000   8.552013   0.000000  0.106650   \n",
       "1      0.000000   2.788229  0.754297   0.000000   2.539878  3.851845   \n",
       "2      5.914846   2.232292  0.000000  11.802919   0.000000  0.000000   \n",
       "3      0.861216   3.639449  0.000000   3.721268   0.000000  0.000000   \n",
       "4      1.039733   9.232069  0.000000   1.483310   0.000000  0.000000   \n",
       "...         ...        ...       ...        ...        ...       ...   \n",
       "22651  3.165389  37.920837  8.676129   0.000000   2.033258  1.412931   \n",
       "22652  0.000000  34.038080  7.112828   0.579148   0.936001  1.200150   \n",
       "22653  2.970888  16.468681  1.361128   1.985318   0.276024  0.000000   \n",
       "22654  0.000000   0.104550  2.345689   4.225636   0.532689  8.728232   \n",
       "22655  0.842079   0.000000  1.244817   0.000000  11.121725  2.166986   \n",
       "\n",
       "               6         7         8         9  ...       2038       2039  \\\n",
       "0      16.067930  2.754838  0.000000  0.000000  ...   1.330357   0.111984   \n",
       "1       3.080238  0.000000  0.641055  1.447005  ...   0.159295  13.468638   \n",
       "2       8.595102  3.762110  0.000000  1.319177  ...  17.136992   0.000000   \n",
       "3       0.704272  1.156900  1.219262  2.974664  ...   4.385935   3.835477   \n",
       "4       0.986046  3.571916  0.619291  0.646493  ...   0.632879   1.290295   \n",
       "...          ...       ...       ...       ...  ...        ...        ...   \n",
       "22651   2.870075  1.567106  2.295701  1.007221  ...   3.339962   1.700938   \n",
       "22652   1.739207  0.960047  1.091176  0.000000  ...   4.406452   2.136025   \n",
       "22653   7.925969  0.754939  1.195237  3.516096  ...  12.242370   1.994565   \n",
       "22654  22.250055  0.378685  0.000000  1.664020  ...  15.755005   5.040476   \n",
       "22655   0.622735  0.672296  0.000000  0.000000  ...   1.614945   7.523007   \n",
       "\n",
       "           2040       2041      2042      2043       2044      2045  \\\n",
       "0      9.504754   4.337305  0.074342  0.000000   7.377696  0.026429   \n",
       "1      2.867096   1.598586  2.556869  0.378737   5.992522  0.653195   \n",
       "2      3.226575   1.980115  0.000000  0.000000   6.165443  0.948540   \n",
       "3      3.504012  17.089266  0.000000  0.000000   2.154345  2.161019   \n",
       "4      6.424055   0.000000  0.581709  0.000000  18.104776  0.000000   \n",
       "...         ...        ...       ...       ...        ...       ...   \n",
       "22651  0.000000   2.572877  4.052027  0.000000   3.152189  4.633288   \n",
       "22652  1.957094   0.223044  6.861034  0.365381   4.310698  0.000000   \n",
       "22653  0.573752  18.099092  1.855864  0.000000   1.042364  1.962243   \n",
       "22654  4.630026   0.000000  1.135384  9.161121   8.029400  8.505575   \n",
       "22655  3.160083   1.591909  3.097327  0.000000   4.282538  3.865760   \n",
       "\n",
       "            2046       2047  \n",
       "0       0.000000   8.451321  \n",
       "1      13.689517  11.015627  \n",
       "2       1.757253   1.303848  \n",
       "3       0.000000   7.274156  \n",
       "4       0.000000   0.000000  \n",
       "...          ...        ...  \n",
       "22651   7.057969  24.706306  \n",
       "22652   0.000000  13.679068  \n",
       "22653   2.990560  24.255568  \n",
       "22654   3.569754   2.585377  \n",
       "22655  10.444748   5.143378  \n",
       "\n",
       "[22656 rows x 2048 columns]"
      ]
     },
     "execution_count": 3,
     "metadata": {},
     "output_type": "execute_result"
    }
   ],
   "source": [
    "df_embs = pd.read_csv('embedded2.csv')\n",
    "df_embs.drop('Unnamed: 0',axis=1,inplace=True)\n",
    "df_embs"
   ]
  },
  {
   "cell_type": "code",
   "execution_count": 4,
   "metadata": {},
   "outputs": [
    {
     "data": {
      "text/html": [
       "<div>\n",
       "<style scoped>\n",
       "    .dataframe tbody tr th:only-of-type {\n",
       "        vertical-align: middle;\n",
       "    }\n",
       "\n",
       "    .dataframe tbody tr th {\n",
       "        vertical-align: top;\n",
       "    }\n",
       "\n",
       "    .dataframe thead th {\n",
       "        text-align: right;\n",
       "    }\n",
       "</style>\n",
       "<table border=\"1\" class=\"dataframe\">\n",
       "  <thead>\n",
       "    <tr style=\"text-align: right;\">\n",
       "      <th></th>\n",
       "      <th>id</th>\n",
       "      <th>gender</th>\n",
       "      <th>masterCategory</th>\n",
       "      <th>subCategory</th>\n",
       "      <th>articleType</th>\n",
       "      <th>baseColour</th>\n",
       "      <th>season</th>\n",
       "      <th>year</th>\n",
       "      <th>usage</th>\n",
       "      <th>productDisplayName</th>\n",
       "      <th>image</th>\n",
       "    </tr>\n",
       "  </thead>\n",
       "  <tbody>\n",
       "    <tr>\n",
       "      <td>0</td>\n",
       "      <td>39386</td>\n",
       "      <td>Men</td>\n",
       "      <td>Apparel</td>\n",
       "      <td>Bottomwear</td>\n",
       "      <td>Jeans</td>\n",
       "      <td>Blue</td>\n",
       "      <td>Summer</td>\n",
       "      <td>2012.0</td>\n",
       "      <td>Casual</td>\n",
       "      <td>Peter England Men Party Blue Jeans</td>\n",
       "      <td>39386.jpg</td>\n",
       "    </tr>\n",
       "    <tr>\n",
       "      <td>1</td>\n",
       "      <td>59263</td>\n",
       "      <td>Women</td>\n",
       "      <td>Accessories</td>\n",
       "      <td>Watches</td>\n",
       "      <td>Watches</td>\n",
       "      <td>Silver</td>\n",
       "      <td>Winter</td>\n",
       "      <td>2016.0</td>\n",
       "      <td>Casual</td>\n",
       "      <td>Titan Women Silver Watch</td>\n",
       "      <td>59263.jpg</td>\n",
       "    </tr>\n",
       "    <tr>\n",
       "      <td>2</td>\n",
       "      <td>21379</td>\n",
       "      <td>Men</td>\n",
       "      <td>Apparel</td>\n",
       "      <td>Bottomwear</td>\n",
       "      <td>Track Pants</td>\n",
       "      <td>Black</td>\n",
       "      <td>Fall</td>\n",
       "      <td>2011.0</td>\n",
       "      <td>Casual</td>\n",
       "      <td>Manchester United Men Solid Black Track Pants</td>\n",
       "      <td>21379.jpg</td>\n",
       "    </tr>\n",
       "    <tr>\n",
       "      <td>3</td>\n",
       "      <td>26960</td>\n",
       "      <td>Women</td>\n",
       "      <td>Apparel</td>\n",
       "      <td>Topwear</td>\n",
       "      <td>Shirts</td>\n",
       "      <td>Purple</td>\n",
       "      <td>Summer</td>\n",
       "      <td>2012.0</td>\n",
       "      <td>Casual</td>\n",
       "      <td>Jealous 21 Women Purple Shirt</td>\n",
       "      <td>26960.jpg</td>\n",
       "    </tr>\n",
       "    <tr>\n",
       "      <td>4</td>\n",
       "      <td>29114</td>\n",
       "      <td>Men</td>\n",
       "      <td>Accessories</td>\n",
       "      <td>Socks</td>\n",
       "      <td>Socks</td>\n",
       "      <td>Navy Blue</td>\n",
       "      <td>Summer</td>\n",
       "      <td>2012.0</td>\n",
       "      <td>Casual</td>\n",
       "      <td>Puma Men Pack of 3 Socks</td>\n",
       "      <td>29114.jpg</td>\n",
       "    </tr>\n",
       "    <tr>\n",
       "      <td>...</td>\n",
       "      <td>...</td>\n",
       "      <td>...</td>\n",
       "      <td>...</td>\n",
       "      <td>...</td>\n",
       "      <td>...</td>\n",
       "      <td>...</td>\n",
       "      <td>...</td>\n",
       "      <td>...</td>\n",
       "      <td>...</td>\n",
       "      <td>...</td>\n",
       "      <td>...</td>\n",
       "    </tr>\n",
       "    <tr>\n",
       "      <td>22651</td>\n",
       "      <td>38479</td>\n",
       "      <td>Boys</td>\n",
       "      <td>Apparel</td>\n",
       "      <td>Topwear</td>\n",
       "      <td>Tshirts</td>\n",
       "      <td>Green</td>\n",
       "      <td>Summer</td>\n",
       "      <td>2012.0</td>\n",
       "      <td>Casual</td>\n",
       "      <td>Gini and Jony Boys Core Green T-shirt</td>\n",
       "      <td>38479.jpg</td>\n",
       "    </tr>\n",
       "    <tr>\n",
       "      <td>22652</td>\n",
       "      <td>30614</td>\n",
       "      <td>Men</td>\n",
       "      <td>Apparel</td>\n",
       "      <td>Topwear</td>\n",
       "      <td>Tshirts</td>\n",
       "      <td>Black</td>\n",
       "      <td>Summer</td>\n",
       "      <td>2012.0</td>\n",
       "      <td>Sports</td>\n",
       "      <td>Nike Men Striped Black Jersey</td>\n",
       "      <td>30614.jpg</td>\n",
       "    </tr>\n",
       "    <tr>\n",
       "      <td>22653</td>\n",
       "      <td>12544</td>\n",
       "      <td>Women</td>\n",
       "      <td>Apparel</td>\n",
       "      <td>Topwear</td>\n",
       "      <td>Tshirts</td>\n",
       "      <td>Peach</td>\n",
       "      <td>Fall</td>\n",
       "      <td>2011.0</td>\n",
       "      <td>Casual</td>\n",
       "      <td>Tantra Women Printed Peach T-shirt</td>\n",
       "      <td>12544.jpg</td>\n",
       "    </tr>\n",
       "    <tr>\n",
       "      <td>22654</td>\n",
       "      <td>6461</td>\n",
       "      <td>Men</td>\n",
       "      <td>Footwear</td>\n",
       "      <td>Flip Flops</td>\n",
       "      <td>Flip Flops</td>\n",
       "      <td>Red</td>\n",
       "      <td>Summer</td>\n",
       "      <td>2011.0</td>\n",
       "      <td>Casual</td>\n",
       "      <td>Lotto Men's Soccer Track Flip Flop</td>\n",
       "      <td>6461.jpg</td>\n",
       "    </tr>\n",
       "    <tr>\n",
       "      <td>22655</td>\n",
       "      <td>46694</td>\n",
       "      <td>Women</td>\n",
       "      <td>Personal Care</td>\n",
       "      <td>Fragrance</td>\n",
       "      <td>Perfume and Body Mist</td>\n",
       "      <td>Blue</td>\n",
       "      <td>Spring</td>\n",
       "      <td>2017.0</td>\n",
       "      <td>Casual</td>\n",
       "      <td>Rasasi Women Blue Lady Perfume</td>\n",
       "      <td>46694.jpg</td>\n",
       "    </tr>\n",
       "  </tbody>\n",
       "</table>\n",
       "<p>22656 rows × 11 columns</p>\n",
       "</div>"
      ],
      "text/plain": [
       "          id gender masterCategory subCategory            articleType  \\\n",
       "0      39386    Men        Apparel  Bottomwear                  Jeans   \n",
       "1      59263  Women    Accessories     Watches                Watches   \n",
       "2      21379    Men        Apparel  Bottomwear            Track Pants   \n",
       "3      26960  Women        Apparel     Topwear                 Shirts   \n",
       "4      29114    Men    Accessories       Socks                  Socks   \n",
       "...      ...    ...            ...         ...                    ...   \n",
       "22651  38479   Boys        Apparel     Topwear                Tshirts   \n",
       "22652  30614    Men        Apparel     Topwear                Tshirts   \n",
       "22653  12544  Women        Apparel     Topwear                Tshirts   \n",
       "22654   6461    Men       Footwear  Flip Flops             Flip Flops   \n",
       "22655  46694  Women  Personal Care   Fragrance  Perfume and Body Mist   \n",
       "\n",
       "      baseColour  season    year   usage  \\\n",
       "0           Blue  Summer  2012.0  Casual   \n",
       "1         Silver  Winter  2016.0  Casual   \n",
       "2          Black    Fall  2011.0  Casual   \n",
       "3         Purple  Summer  2012.0  Casual   \n",
       "4      Navy Blue  Summer  2012.0  Casual   \n",
       "...          ...     ...     ...     ...   \n",
       "22651      Green  Summer  2012.0  Casual   \n",
       "22652      Black  Summer  2012.0  Sports   \n",
       "22653      Peach    Fall  2011.0  Casual   \n",
       "22654        Red  Summer  2011.0  Casual   \n",
       "22655       Blue  Spring  2017.0  Casual   \n",
       "\n",
       "                                  productDisplayName      image  \n",
       "0                 Peter England Men Party Blue Jeans  39386.jpg  \n",
       "1                           Titan Women Silver Watch  59263.jpg  \n",
       "2      Manchester United Men Solid Black Track Pants  21379.jpg  \n",
       "3                      Jealous 21 Women Purple Shirt  26960.jpg  \n",
       "4                           Puma Men Pack of 3 Socks  29114.jpg  \n",
       "...                                              ...        ...  \n",
       "22651          Gini and Jony Boys Core Green T-shirt  38479.jpg  \n",
       "22652                  Nike Men Striped Black Jersey  30614.jpg  \n",
       "22653             Tantra Women Printed Peach T-shirt  12544.jpg  \n",
       "22654             Lotto Men's Soccer Track Flip Flop   6461.jpg  \n",
       "22655                 Rasasi Women Blue Lady Perfume  46694.jpg  \n",
       "\n",
       "[22656 rows x 11 columns]"
      ]
     },
     "execution_count": 4,
     "metadata": {},
     "output_type": "execute_result"
    }
   ],
   "source": [
    "df = pd.read_csv('final_styles2.csv')\n",
    "df.drop('Unnamed: 0',axis=1,inplace=True)\n",
    "df"
   ]
  },
  {
   "cell_type": "markdown",
   "metadata": {},
   "source": [
    "### Calculating Accuracy Scores for various n components values on PCA"
   ]
  },
  {
   "cell_type": "markdown",
   "metadata": {},
   "source": [
    "### Article Type"
   ]
  },
  {
   "cell_type": "markdown",
   "metadata": {},
   "source": [
    "#### Using Random Forest Classifier"
   ]
  },
  {
   "cell_type": "code",
   "execution_count": 10,
   "metadata": {},
   "outputs": [],
   "source": [
    "from sklearn.decomposition import PCA\n",
    "from sklearn.metrics import accuracy_score\n",
    "from sklearn.ensemble import RandomForestClassifier\n",
    "from imblearn.over_sampling import SMOTE\n",
    "from sklearn.model_selection import train_test_split\n",
    "\n",
    "def get_score_randomforest(X_train,X_test,y_train,y_test):\n",
    "    # train randomforest\n",
    "    randomforest = RandomForestClassifier(random_state=101)\n",
    "    randomforest.fit(X_train,y_train)\n",
    "    rf_models.append(randomforest)\n",
    "\n",
    "    # get accuracy score\n",
    "    pred = randomforest.predict(X_test)\n",
    "    return accuracy_score(y_test, pred)\n",
    "\n",
    "def do_first_randomforest_smote(col):\n",
    "    for i in n_pca:\n",
    "        # scaling\n",
    "        scaler = StandardScaler()\n",
    "        scaler.fit(df_embs)\n",
    "        scaled_data = scaler.transform(df_embs)\n",
    "\n",
    "        # pca\n",
    "        t_pca = PCA(n_components=i,random_state=101)\n",
    "        t_pca.fit(scaled_data)\n",
    "        pca.append(t_pca)\n",
    "        feature_pca = t_pca.transform(df_embs)\n",
    "        dfPCA = pd.DataFrame(feature_pca,columns=['PCA'+str(j) for j in range(1,i+1)])\n",
    "\n",
    "        # split data\n",
    "        X = dfPCA\n",
    "        y = df[col]\n",
    "        X_train, X_test, y_train, y_test = train_test_split(X,y,test_size=0.2,random_state=101)\n",
    "\n",
    "        x_trains.append(X_train)\n",
    "        y_trains.append(y_train)\n",
    "        x_tests.append(X_test)\n",
    "        y_tests.append(y_test)\n",
    "        \n",
    "        # oversampling SMOTE\n",
    "        sm = SMOTE(random_state=101)\n",
    "        X_sm, y_sm = sm.fit_sample(X_train,y_train)\n",
    "        smote_x.append(X_sm)\n",
    "        smote_y.append(y_sm)\n",
    "\n",
    "        rf_accuracy_scores.append(get_score_randomforest(X_sm,X_test,y_sm,y_test))"
   ]
  },
  {
   "cell_type": "code",
   "execution_count": 11,
   "metadata": {
    "scrolled": true
   },
   "outputs": [
    {
     "data": {
      "text/html": [
       "<div>\n",
       "<style scoped>\n",
       "    .dataframe tbody tr th:only-of-type {\n",
       "        vertical-align: middle;\n",
       "    }\n",
       "\n",
       "    .dataframe tbody tr th {\n",
       "        vertical-align: top;\n",
       "    }\n",
       "\n",
       "    .dataframe thead th {\n",
       "        text-align: right;\n",
       "    }\n",
       "</style>\n",
       "<table border=\"1\" class=\"dataframe\">\n",
       "  <thead>\n",
       "    <tr style=\"text-align: right;\">\n",
       "      <th></th>\n",
       "      <th>PCA</th>\n",
       "      <th>Accuracy Score</th>\n",
       "    </tr>\n",
       "  </thead>\n",
       "  <tbody>\n",
       "    <tr>\n",
       "      <td>0</td>\n",
       "      <td>4</td>\n",
       "      <td>0.550309</td>\n",
       "    </tr>\n",
       "    <tr>\n",
       "      <td>1</td>\n",
       "      <td>8</td>\n",
       "      <td>0.715137</td>\n",
       "    </tr>\n",
       "    <tr>\n",
       "      <td>2</td>\n",
       "      <td>12</td>\n",
       "      <td>0.765666</td>\n",
       "    </tr>\n",
       "    <tr>\n",
       "      <td>3</td>\n",
       "      <td>16</td>\n",
       "      <td>0.789938</td>\n",
       "    </tr>\n",
       "    <tr>\n",
       "      <td>4</td>\n",
       "      <td>20</td>\n",
       "      <td>0.805384</td>\n",
       "    </tr>\n",
       "    <tr>\n",
       "      <td>5</td>\n",
       "      <td>24</td>\n",
       "      <td>0.814872</td>\n",
       "    </tr>\n",
       "    <tr>\n",
       "      <td>6</td>\n",
       "      <td>30</td>\n",
       "      <td>0.828332</td>\n",
       "    </tr>\n",
       "    <tr>\n",
       "      <td>7</td>\n",
       "      <td>40</td>\n",
       "      <td>0.837599</td>\n",
       "    </tr>\n",
       "  </tbody>\n",
       "</table>\n",
       "</div>"
      ],
      "text/plain": [
       "   PCA  Accuracy Score\n",
       "0    4        0.550309\n",
       "1    8        0.715137\n",
       "2   12        0.765666\n",
       "3   16        0.789938\n",
       "4   20        0.805384\n",
       "5   24        0.814872\n",
       "6   30        0.828332\n",
       "7   40        0.837599"
      ]
     },
     "execution_count": 11,
     "metadata": {},
     "output_type": "execute_result"
    }
   ],
   "source": [
    "n_pca = [4,8,12,16,20,24,30,40]\n",
    "\n",
    "pca = []\n",
    "smote_x = []\n",
    "smote_y = []\n",
    "x_trains = []\n",
    "y_trains = []\n",
    "x_tests = []\n",
    "y_tests = []\n",
    "rf_models = []\n",
    "rf_accuracy_scores = []\n",
    "\n",
    "do_first_randomforest_smote('articleType')\n",
    "    \n",
    "df_rf_accuracy = pd.DataFrame(rf_accuracy_scores,index=n_pca,columns=['Accuracy Score'])\n",
    "df_rf_accuracy.index.name = 'PCA'\n",
    "df_rf_accuracy.reset_index()"
   ]
  },
  {
   "cell_type": "code",
   "execution_count": 12,
   "metadata": {
    "scrolled": false
   },
   "outputs": [
    {
     "data": {
      "text/plain": [
       "Text(0.5, 1.0, 'Article Type - Random Forest Accuracy Score x N Components on PCA')"
      ]
     },
     "execution_count": 12,
     "metadata": {},
     "output_type": "execute_result"
    },
    {
     "data": {
      "image/png": "[encoded data removed]",
      "text/plain": [
       "<Figure size 720x360 with 1 Axes>"
      ]
     },
     "metadata": {},
     "output_type": "display_data"
    }
   ],
   "source": [
    "sns.set_style('whitegrid')\n",
    "plt.figure(figsize=(10,5))\n",
    "ax = sns.lineplot(x=\"PCA\", y=\"Accuracy Score\", data=df_rf_accuracy.reset_index())\n",
    "plt.title('Article Type - Random Forest Accuracy Score x N Components on PCA')"
   ]
  },
  {
   "cell_type": "markdown",
   "metadata": {},
   "source": [
    "#### Using XGBoost Classifier"
   ]
  },
  {
   "cell_type": "code",
   "execution_count": 13,
   "metadata": {},
   "outputs": [],
   "source": [
    "from xgboost import XGBClassifier\n",
    "\n",
    "def get_score_xgboost(X_train,X_test,y_train,y_test):\n",
    "    # train xgboost\n",
    "    xgboost = XGBClassifier(random_state=101)\n",
    "    xgboost.fit(X_train,y_train)\n",
    "    xgb_models.append(xgboost)\n",
    "\n",
    "    # get accuracy score\n",
    "    pred = xgboost.predict(X_test)\n",
    "    return accuracy_score(y_test, pred)\n",
    "\n",
    "def xgboost_smote():\n",
    "    for i in range(len(n_pca)):\n",
    "        xgb_accuracy_scores.append(get_score_xgboost(smote_x[i],x_tests[i],smote_y[i],y_tests[i]))\n",
    "    "
   ]
  },
  {
   "cell_type": "code",
   "execution_count": 14,
   "metadata": {},
   "outputs": [
    {
     "data": {
      "text/html": [
       "<div>\n",
       "<style scoped>\n",
       "    .dataframe tbody tr th:only-of-type {\n",
       "        vertical-align: middle;\n",
       "    }\n",
       "\n",
       "    .dataframe tbody tr th {\n",
       "        vertical-align: top;\n",
       "    }\n",
       "\n",
       "    .dataframe thead th {\n",
       "        text-align: right;\n",
       "    }\n",
       "</style>\n",
       "<table border=\"1\" class=\"dataframe\">\n",
       "  <thead>\n",
       "    <tr style=\"text-align: right;\">\n",
       "      <th></th>\n",
       "      <th>PCA</th>\n",
       "      <th>Accuracy Score</th>\n",
       "    </tr>\n",
       "  </thead>\n",
       "  <tbody>\n",
       "    <tr>\n",
       "      <td>0</td>\n",
       "      <td>4</td>\n",
       "      <td>0.539718</td>\n",
       "    </tr>\n",
       "    <tr>\n",
       "      <td>1</td>\n",
       "      <td>8</td>\n",
       "      <td>0.698367</td>\n",
       "    </tr>\n",
       "    <tr>\n",
       "      <td>2</td>\n",
       "      <td>12</td>\n",
       "      <td>0.745366</td>\n",
       "    </tr>\n",
       "    <tr>\n",
       "      <td>3</td>\n",
       "      <td>16</td>\n",
       "      <td>0.777140</td>\n",
       "    </tr>\n",
       "    <tr>\n",
       "      <td>4</td>\n",
       "      <td>20</td>\n",
       "      <td>0.789056</td>\n",
       "    </tr>\n",
       "    <tr>\n",
       "      <td>5</td>\n",
       "      <td>24</td>\n",
       "      <td>0.797220</td>\n",
       "    </tr>\n",
       "    <tr>\n",
       "      <td>6</td>\n",
       "      <td>30</td>\n",
       "      <td>0.810900</td>\n",
       "    </tr>\n",
       "    <tr>\n",
       "      <td>7</td>\n",
       "      <td>40</td>\n",
       "      <td>0.819285</td>\n",
       "    </tr>\n",
       "  </tbody>\n",
       "</table>\n",
       "</div>"
      ],
      "text/plain": [
       "   PCA  Accuracy Score\n",
       "0    4        0.539718\n",
       "1    8        0.698367\n",
       "2   12        0.745366\n",
       "3   16        0.777140\n",
       "4   20        0.789056\n",
       "5   24        0.797220\n",
       "6   30        0.810900\n",
       "7   40        0.819285"
      ]
     },
     "execution_count": 14,
     "metadata": {},
     "output_type": "execute_result"
    }
   ],
   "source": [
    "xgb_models = []\n",
    "xgb_accuracy_scores = []\n",
    "\n",
    "xgboost_smote()\n",
    "    \n",
    "df_xgb_accuracy = pd.DataFrame(xgb_accuracy_scores,index=n_pca,columns=['Accuracy Score'])\n",
    "df_xgb_accuracy.index.name = 'PCA'\n",
    "df_xgb_accuracy.reset_index()"
   ]
  },
  {
   "cell_type": "code",
   "execution_count": 15,
   "metadata": {},
   "outputs": [
    {
     "data": {
      "text/plain": [
       "Text(0.5, 1.0, 'Article Type - XGBoost Accuracy Score x N Components on PCA')"
      ]
     },
     "execution_count": 15,
     "metadata": {},
     "output_type": "execute_result"
    },
    {
     "data": {
      "image/png": "[encoded data removed]",
      "text/plain": [
       "<Figure size 720x360 with 1 Axes>"
      ]
     },
     "metadata": {},
     "output_type": "display_data"
    }
   ],
   "source": [
    "plt.figure(figsize=(10,5))\n",
    "ax = sns.lineplot(x=\"PCA\", y=\"Accuracy Score\", data=df_xgb_accuracy.reset_index())\n",
    "plt.title('Article Type - XGBoost Accuracy Score x N Components on PCA')"
   ]
  },
  {
   "cell_type": "markdown",
   "metadata": {},
   "source": [
    "#### Without SMOTE"
   ]
  },
  {
   "cell_type": "code",
   "execution_count": 16,
   "metadata": {},
   "outputs": [],
   "source": [
    "def get_score_randomforest_nosmote(X_train,X_test,y_train,y_test):\n",
    "    # train randomforest\n",
    "    randomforest = RandomForestClassifier(random_state=101)\n",
    "    randomforest.fit(X_train,y_train)\n",
    "    rf_models_nosmote.append(randomforest)\n",
    "\n",
    "    # get accuracy score\n",
    "    pred = randomforest.predict(X_test)\n",
    "    return accuracy_score(y_test, pred)\n",
    "\n",
    "def randomforest_nosmote():\n",
    "    for i in range(len(n_pca)):\n",
    "        rf_accuracy_scores_nosmote.append(get_score_randomforest_nosmote(x_trains[i],x_tests[i],y_trains[i],y_tests[i]))\n",
    "    "
   ]
  },
  {
   "cell_type": "code",
   "execution_count": 17,
   "metadata": {},
   "outputs": [
    {
     "data": {
      "text/html": [
       "<div>\n",
       "<style scoped>\n",
       "    .dataframe tbody tr th:only-of-type {\n",
       "        vertical-align: middle;\n",
       "    }\n",
       "\n",
       "    .dataframe tbody tr th {\n",
       "        vertical-align: top;\n",
       "    }\n",
       "\n",
       "    .dataframe thead th {\n",
       "        text-align: right;\n",
       "    }\n",
       "</style>\n",
       "<table border=\"1\" class=\"dataframe\">\n",
       "  <thead>\n",
       "    <tr style=\"text-align: right;\">\n",
       "      <th></th>\n",
       "      <th>PCA</th>\n",
       "      <th>Accuracy Score</th>\n",
       "    </tr>\n",
       "  </thead>\n",
       "  <tbody>\n",
       "    <tr>\n",
       "      <td>0</td>\n",
       "      <td>4</td>\n",
       "      <td>0.581642</td>\n",
       "    </tr>\n",
       "    <tr>\n",
       "      <td>1</td>\n",
       "      <td>8</td>\n",
       "      <td>0.718667</td>\n",
       "    </tr>\n",
       "    <tr>\n",
       "      <td>2</td>\n",
       "      <td>12</td>\n",
       "      <td>0.766108</td>\n",
       "    </tr>\n",
       "    <tr>\n",
       "      <td>3</td>\n",
       "      <td>16</td>\n",
       "      <td>0.789718</td>\n",
       "    </tr>\n",
       "    <tr>\n",
       "      <td>4</td>\n",
       "      <td>20</td>\n",
       "      <td>0.808252</td>\n",
       "    </tr>\n",
       "    <tr>\n",
       "      <td>5</td>\n",
       "      <td>24</td>\n",
       "      <td>0.807149</td>\n",
       "    </tr>\n",
       "    <tr>\n",
       "      <td>6</td>\n",
       "      <td>30</td>\n",
       "      <td>0.820388</td>\n",
       "    </tr>\n",
       "    <tr>\n",
       "      <td>7</td>\n",
       "      <td>40</td>\n",
       "      <td>0.829876</td>\n",
       "    </tr>\n",
       "  </tbody>\n",
       "</table>\n",
       "</div>"
      ],
      "text/plain": [
       "   PCA  Accuracy Score\n",
       "0    4        0.581642\n",
       "1    8        0.718667\n",
       "2   12        0.766108\n",
       "3   16        0.789718\n",
       "4   20        0.808252\n",
       "5   24        0.807149\n",
       "6   30        0.820388\n",
       "7   40        0.829876"
      ]
     },
     "execution_count": 17,
     "metadata": {},
     "output_type": "execute_result"
    }
   ],
   "source": [
    "rf_models_nosmote = []\n",
    "rf_accuracy_scores_nosmote = []\n",
    "\n",
    "randomforest_nosmote()\n",
    "    \n",
    "df_rf_accuracy_nosmote = pd.DataFrame(rf_accuracy_scores_nosmote,index=n_pca,columns=['Accuracy Score'])\n",
    "df_rf_accuracy_nosmote.index.name = 'PCA'\n",
    "df_rf_accuracy_nosmote.reset_index()"
   ]
  },
  {
   "cell_type": "code",
   "execution_count": 18,
   "metadata": {},
   "outputs": [
    {
     "data": {
      "text/plain": [
       "Text(0.5, 1.0, 'Article Type - Random Forest Accuracy Score x N Components on PCA - Without SMOTE')"
      ]
     },
     "execution_count": 18,
     "metadata": {},
     "output_type": "execute_result"
    },
    {
     "data": {
      "image/png": "[encoded data removed]",
      "text/plain": [
       "<Figure size 720x360 with 1 Axes>"
      ]
     },
     "metadata": {},
     "output_type": "display_data"
    }
   ],
   "source": [
    "plt.figure(figsize=(10,5))\n",
    "ax = sns.lineplot(x=\"PCA\", y=\"Accuracy Score\", data=df_rf_accuracy_nosmote.reset_index())\n",
    "plt.title('Article Type - Random Forest Accuracy Score x N Components on PCA - Without SMOTE')"
   ]
  },
  {
   "cell_type": "code",
   "execution_count": 19,
   "metadata": {},
   "outputs": [],
   "source": [
    "def get_score_xgboost_nosmote(X_train,X_test,y_train,y_test):\n",
    "    # train xgboost\n",
    "    xgboost = XGBClassifier(random_state=101)\n",
    "    xgboost.fit(X_train,y_train)\n",
    "    xgb_models_nosmote.append(xgboost)\n",
    "\n",
    "    # get accuracy score\n",
    "    pred = xgboost.predict(X_test)\n",
    "    return accuracy_score(y_test, pred)\n",
    "\n",
    "def xgboost_nosmote():\n",
    "    for i in range(len(n_pca)):\n",
    "        xgb_accuracy_scores_nosmote.append(get_score_xgboost_nosmote(x_trains[i],x_tests[i],y_trains[i],y_tests[i]))\n",
    "    "
   ]
  },
  {
   "cell_type": "code",
   "execution_count": 20,
   "metadata": {},
   "outputs": [
    {
     "data": {
      "text/html": [
       "<div>\n",
       "<style scoped>\n",
       "    .dataframe tbody tr th:only-of-type {\n",
       "        vertical-align: middle;\n",
       "    }\n",
       "\n",
       "    .dataframe tbody tr th {\n",
       "        vertical-align: top;\n",
       "    }\n",
       "\n",
       "    .dataframe thead th {\n",
       "        text-align: right;\n",
       "    }\n",
       "</style>\n",
       "<table border=\"1\" class=\"dataframe\">\n",
       "  <thead>\n",
       "    <tr style=\"text-align: right;\">\n",
       "      <th></th>\n",
       "      <th>PCA</th>\n",
       "      <th>Accuracy Score</th>\n",
       "    </tr>\n",
       "  </thead>\n",
       "  <tbody>\n",
       "    <tr>\n",
       "      <td>0</td>\n",
       "      <td>4</td>\n",
       "      <td>0.571492</td>\n",
       "    </tr>\n",
       "    <tr>\n",
       "      <td>1</td>\n",
       "      <td>8</td>\n",
       "      <td>0.705649</td>\n",
       "    </tr>\n",
       "    <tr>\n",
       "      <td>2</td>\n",
       "      <td>12</td>\n",
       "      <td>0.753530</td>\n",
       "    </tr>\n",
       "    <tr>\n",
       "      <td>3</td>\n",
       "      <td>16</td>\n",
       "      <td>0.783981</td>\n",
       "    </tr>\n",
       "    <tr>\n",
       "      <td>4</td>\n",
       "      <td>20</td>\n",
       "      <td>0.788173</td>\n",
       "    </tr>\n",
       "    <tr>\n",
       "      <td>5</td>\n",
       "      <td>24</td>\n",
       "      <td>0.806929</td>\n",
       "    </tr>\n",
       "    <tr>\n",
       "      <td>6</td>\n",
       "      <td>30</td>\n",
       "      <td>0.813107</td>\n",
       "    </tr>\n",
       "    <tr>\n",
       "      <td>7</td>\n",
       "      <td>40</td>\n",
       "      <td>0.819506</td>\n",
       "    </tr>\n",
       "  </tbody>\n",
       "</table>\n",
       "</div>"
      ],
      "text/plain": [
       "   PCA  Accuracy Score\n",
       "0    4        0.571492\n",
       "1    8        0.705649\n",
       "2   12        0.753530\n",
       "3   16        0.783981\n",
       "4   20        0.788173\n",
       "5   24        0.806929\n",
       "6   30        0.813107\n",
       "7   40        0.819506"
      ]
     },
     "execution_count": 20,
     "metadata": {},
     "output_type": "execute_result"
    }
   ],
   "source": [
    "xgb_models_nosmote = []\n",
    "xgb_accuracy_scores_nosmote = []\n",
    "\n",
    "xgboost_nosmote()\n",
    "    \n",
    "df_xgb_accuracy_nosmote = pd.DataFrame(xgb_accuracy_scores_nosmote,index=n_pca,columns=['Accuracy Score'])\n",
    "df_xgb_accuracy_nosmote.index.name = 'PCA'\n",
    "df_xgb_accuracy_nosmote.reset_index()"
   ]
  },
  {
   "cell_type": "code",
   "execution_count": 21,
   "metadata": {},
   "outputs": [
    {
     "data": {
      "text/plain": [
       "Text(0.5, 1.0, 'Article Type - XGBoost Accuracy Score x N Components on PCA - Without SMOTE')"
      ]
     },
     "execution_count": 21,
     "metadata": {},
     "output_type": "execute_result"
    },
    {
     "data": {
      "image/png": "[encoded data removed]",
      "text/plain": [
       "<Figure size 720x360 with 1 Axes>"
      ]
     },
     "metadata": {},
     "output_type": "display_data"
    }
   ],
   "source": [
    "plt.figure(figsize=(10,5))\n",
    "ax = sns.lineplot(x=\"PCA\", y=\"Accuracy Score\", data=df_xgb_accuracy_nosmote.reset_index())\n",
    "plt.title('Article Type - XGBoost Accuracy Score x N Components on PCA - Without SMOTE')"
   ]
  },
  {
   "cell_type": "markdown",
   "metadata": {},
   "source": [
    "> Based on the results above, we will take the model with the highest accuracy score which is random forest with n pca = 40"
   ]
  },
  {
   "cell_type": "markdown",
   "metadata": {},
   "source": [
    "> But, because the result is lower than expected (<0.9) we need a new model. After this, we will be looking into the model results on master and sub category. If the results are better (>0.9), this can be a good additional training feature, since article type is dependent on both of them."
   ]
  },
  {
   "cell_type": "code",
   "execution_count": 22,
   "metadata": {},
   "outputs": [],
   "source": [
    "import pickle\n",
    "\n",
    "model_articleType = rf_models[7]\n",
    "pickle.dump(model_articleType, open('model_articleType.sav', 'wb'))"
   ]
  },
  {
   "cell_type": "markdown",
   "metadata": {},
   "source": [
    "### Sub Category"
   ]
  },
  {
   "cell_type": "markdown",
   "metadata": {},
   "source": [
    "#### Random Forest Classifier"
   ]
  },
  {
   "cell_type": "code",
   "execution_count": 40,
   "metadata": {},
   "outputs": [
    {
     "data": {
      "text/html": [
       "<div>\n",
       "<style scoped>\n",
       "    .dataframe tbody tr th:only-of-type {\n",
       "        vertical-align: middle;\n",
       "    }\n",
       "\n",
       "    .dataframe tbody tr th {\n",
       "        vertical-align: top;\n",
       "    }\n",
       "\n",
       "    .dataframe thead th {\n",
       "        text-align: right;\n",
       "    }\n",
       "</style>\n",
       "<table border=\"1\" class=\"dataframe\">\n",
       "  <thead>\n",
       "    <tr style=\"text-align: right;\">\n",
       "      <th></th>\n",
       "      <th>PCA</th>\n",
       "      <th>Accuracy Score</th>\n",
       "    </tr>\n",
       "  </thead>\n",
       "  <tbody>\n",
       "    <tr>\n",
       "      <td>0</td>\n",
       "      <td>4</td>\n",
       "      <td>0.750662</td>\n",
       "    </tr>\n",
       "    <tr>\n",
       "      <td>1</td>\n",
       "      <td>8</td>\n",
       "      <td>0.884157</td>\n",
       "    </tr>\n",
       "    <tr>\n",
       "      <td>2</td>\n",
       "      <td>12</td>\n",
       "      <td>0.916372</td>\n",
       "    </tr>\n",
       "    <tr>\n",
       "      <td>3</td>\n",
       "      <td>16</td>\n",
       "      <td>0.932921</td>\n",
       "    </tr>\n",
       "    <tr>\n",
       "      <td>4</td>\n",
       "      <td>20</td>\n",
       "      <td>0.938658</td>\n",
       "    </tr>\n",
       "    <tr>\n",
       "      <td>5</td>\n",
       "      <td>24</td>\n",
       "      <td>0.940644</td>\n",
       "    </tr>\n",
       "    <tr>\n",
       "      <td>6</td>\n",
       "      <td>30</td>\n",
       "      <td>0.943513</td>\n",
       "    </tr>\n",
       "    <tr>\n",
       "      <td>7</td>\n",
       "      <td>40</td>\n",
       "      <td>0.949912</td>\n",
       "    </tr>\n",
       "  </tbody>\n",
       "</table>\n",
       "</div>"
      ],
      "text/plain": [
       "   PCA  Accuracy Score\n",
       "0    4        0.750662\n",
       "1    8        0.884157\n",
       "2   12        0.916372\n",
       "3   16        0.932921\n",
       "4   20        0.938658\n",
       "5   24        0.940644\n",
       "6   30        0.943513\n",
       "7   40        0.949912"
      ]
     },
     "execution_count": 40,
     "metadata": {},
     "output_type": "execute_result"
    }
   ],
   "source": [
    "n_pca = [4,8,12,16,20,24,30,40]\n",
    "\n",
    "pca = []\n",
    "smote_x = []\n",
    "smote_y = []\n",
    "x_trains = []\n",
    "y_trains = []\n",
    "x_tests = []\n",
    "y_tests = []\n",
    "rf_models = []\n",
    "rf_accuracy_scores = []\n",
    "\n",
    "do_first_randomforest_smote('subCategory')\n",
    "    \n",
    "df_rf_accuracy = pd.DataFrame(rf_accuracy_scores,index=n_pca,columns=['Accuracy Score'])\n",
    "df_rf_accuracy.index.name = 'PCA'\n",
    "df_rf_accuracy.reset_index()"
   ]
  },
  {
   "cell_type": "code",
   "execution_count": 41,
   "metadata": {},
   "outputs": [
    {
     "data": {
      "text/plain": [
       "Text(0.5, 1.0, 'Sub Category - Random Forest Accuracy Score x N Components on PCA')"
      ]
     },
     "execution_count": 41,
     "metadata": {},
     "output_type": "execute_result"
    },
    {
     "data": {
      "image/png": "[encoded data removed]",
      "text/plain": [
       "<Figure size 720x360 with 1 Axes>"
      ]
     },
     "metadata": {},
     "output_type": "display_data"
    }
   ],
   "source": [
    "plt.figure(figsize=(10,5))\n",
    "ax = sns.lineplot(x=\"PCA\", y=\"Accuracy Score\", data=df_rf_accuracy.reset_index())\n",
    "plt.title('Sub Category - Random Forest Accuracy Score x N Components on PCA')"
   ]
  },
  {
   "cell_type": "markdown",
   "metadata": {},
   "source": [
    "#### XGBoost Classifier"
   ]
  },
  {
   "cell_type": "code",
   "execution_count": 42,
   "metadata": {},
   "outputs": [
    {
     "data": {
      "text/html": [
       "<div>\n",
       "<style scoped>\n",
       "    .dataframe tbody tr th:only-of-type {\n",
       "        vertical-align: middle;\n",
       "    }\n",
       "\n",
       "    .dataframe tbody tr th {\n",
       "        vertical-align: top;\n",
       "    }\n",
       "\n",
       "    .dataframe thead th {\n",
       "        text-align: right;\n",
       "    }\n",
       "</style>\n",
       "<table border=\"1\" class=\"dataframe\">\n",
       "  <thead>\n",
       "    <tr style=\"text-align: right;\">\n",
       "      <th></th>\n",
       "      <th>PCA</th>\n",
       "      <th>Accuracy Score</th>\n",
       "    </tr>\n",
       "  </thead>\n",
       "  <tbody>\n",
       "    <tr>\n",
       "      <td>0</td>\n",
       "      <td>4</td>\n",
       "      <td>0.729479</td>\n",
       "    </tr>\n",
       "    <tr>\n",
       "      <td>1</td>\n",
       "      <td>8</td>\n",
       "      <td>0.878199</td>\n",
       "    </tr>\n",
       "    <tr>\n",
       "      <td>2</td>\n",
       "      <td>12</td>\n",
       "      <td>0.913725</td>\n",
       "    </tr>\n",
       "    <tr>\n",
       "      <td>3</td>\n",
       "      <td>16</td>\n",
       "      <td>0.927846</td>\n",
       "    </tr>\n",
       "    <tr>\n",
       "      <td>4</td>\n",
       "      <td>20</td>\n",
       "      <td>0.937335</td>\n",
       "    </tr>\n",
       "    <tr>\n",
       "      <td>5</td>\n",
       "      <td>24</td>\n",
       "      <td>0.941968</td>\n",
       "    </tr>\n",
       "    <tr>\n",
       "      <td>6</td>\n",
       "      <td>30</td>\n",
       "      <td>0.945278</td>\n",
       "    </tr>\n",
       "    <tr>\n",
       "      <td>7</td>\n",
       "      <td>40</td>\n",
       "      <td>0.944395</td>\n",
       "    </tr>\n",
       "  </tbody>\n",
       "</table>\n",
       "</div>"
      ],
      "text/plain": [
       "   PCA  Accuracy Score\n",
       "0    4        0.729479\n",
       "1    8        0.878199\n",
       "2   12        0.913725\n",
       "3   16        0.927846\n",
       "4   20        0.937335\n",
       "5   24        0.941968\n",
       "6   30        0.945278\n",
       "7   40        0.944395"
      ]
     },
     "execution_count": 42,
     "metadata": {},
     "output_type": "execute_result"
    }
   ],
   "source": [
    "xgb_models = []\n",
    "xgb_accuracy_scores = []\n",
    "\n",
    "xgboost_smote()\n",
    "    \n",
    "df_xgb_accuracy = pd.DataFrame(xgb_accuracy_scores,index=n_pca,columns=['Accuracy Score'])\n",
    "df_xgb_accuracy.index.name = 'PCA'\n",
    "df_xgb_accuracy.reset_index()"
   ]
  },
  {
   "cell_type": "code",
   "execution_count": 43,
   "metadata": {},
   "outputs": [
    {
     "data": {
      "text/plain": [
       "Text(0.5, 1.0, 'Sub Category - XGBoost Accuracy Score x N Components on PCA')"
      ]
     },
     "execution_count": 43,
     "metadata": {},
     "output_type": "execute_result"
    },
    {
     "data": {
      "image/png": "[encoded data removed]",
      "text/plain": [
       "<Figure size 720x360 with 1 Axes>"
      ]
     },
     "metadata": {},
     "output_type": "display_data"
    }
   ],
   "source": [
    "plt.figure(figsize=(10,5))\n",
    "ax = sns.lineplot(x=\"PCA\", y=\"Accuracy Score\", data=df_xgb_accuracy.reset_index())\n",
    "plt.title('Sub Category - XGBoost Accuracy Score x N Components on PCA')"
   ]
  },
  {
   "cell_type": "markdown",
   "metadata": {},
   "source": [
    "#### Without SMOTE"
   ]
  },
  {
   "cell_type": "code",
   "execution_count": 44,
   "metadata": {},
   "outputs": [
    {
     "data": {
      "text/html": [
       "<div>\n",
       "<style scoped>\n",
       "    .dataframe tbody tr th:only-of-type {\n",
       "        vertical-align: middle;\n",
       "    }\n",
       "\n",
       "    .dataframe tbody tr th {\n",
       "        vertical-align: top;\n",
       "    }\n",
       "\n",
       "    .dataframe thead th {\n",
       "        text-align: right;\n",
       "    }\n",
       "</style>\n",
       "<table border=\"1\" class=\"dataframe\">\n",
       "  <thead>\n",
       "    <tr style=\"text-align: right;\">\n",
       "      <th></th>\n",
       "      <th>PCA</th>\n",
       "      <th>Accuracy Score</th>\n",
       "    </tr>\n",
       "  </thead>\n",
       "  <tbody>\n",
       "    <tr>\n",
       "      <td>0</td>\n",
       "      <td>4</td>\n",
       "      <td>0.787511</td>\n",
       "    </tr>\n",
       "    <tr>\n",
       "      <td>1</td>\n",
       "      <td>8</td>\n",
       "      <td>0.892763</td>\n",
       "    </tr>\n",
       "    <tr>\n",
       "      <td>2</td>\n",
       "      <td>12</td>\n",
       "      <td>0.922109</td>\n",
       "    </tr>\n",
       "    <tr>\n",
       "      <td>3</td>\n",
       "      <td>16</td>\n",
       "      <td>0.928729</td>\n",
       "    </tr>\n",
       "    <tr>\n",
       "      <td>4</td>\n",
       "      <td>20</td>\n",
       "      <td>0.936893</td>\n",
       "    </tr>\n",
       "    <tr>\n",
       "      <td>5</td>\n",
       "      <td>24</td>\n",
       "      <td>0.939541</td>\n",
       "    </tr>\n",
       "    <tr>\n",
       "      <td>6</td>\n",
       "      <td>30</td>\n",
       "      <td>0.939541</td>\n",
       "    </tr>\n",
       "    <tr>\n",
       "      <td>7</td>\n",
       "      <td>40</td>\n",
       "      <td>0.939982</td>\n",
       "    </tr>\n",
       "  </tbody>\n",
       "</table>\n",
       "</div>"
      ],
      "text/plain": [
       "   PCA  Accuracy Score\n",
       "0    4        0.787511\n",
       "1    8        0.892763\n",
       "2   12        0.922109\n",
       "3   16        0.928729\n",
       "4   20        0.936893\n",
       "5   24        0.939541\n",
       "6   30        0.939541\n",
       "7   40        0.939982"
      ]
     },
     "execution_count": 44,
     "metadata": {},
     "output_type": "execute_result"
    }
   ],
   "source": [
    "rf_models_nosmote = []\n",
    "rf_accuracy_scores_nosmote = []\n",
    "\n",
    "randomforest_nosmote()\n",
    "    \n",
    "df_rf_accuracy_nosmote = pd.DataFrame(rf_accuracy_scores_nosmote,index=n_pca,columns=['Accuracy Score'])\n",
    "df_rf_accuracy_nosmote.index.name = 'PCA'\n",
    "df_rf_accuracy_nosmote.reset_index()"
   ]
  },
  {
   "cell_type": "code",
   "execution_count": 45,
   "metadata": {},
   "outputs": [
    {
     "data": {
      "text/plain": [
       "Text(0.5, 1.0, 'Sub Category - Random Forest Accuracy Score x N Components on PCA - Without SMOTE')"
      ]
     },
     "execution_count": 45,
     "metadata": {},
     "output_type": "execute_result"
    },
    {
     "data": {
      "image/png": "[encoded data removed]",
      "text/plain": [
       "<Figure size 720x360 with 1 Axes>"
      ]
     },
     "metadata": {},
     "output_type": "display_data"
    }
   ],
   "source": [
    "plt.figure(figsize=(10,5))\n",
    "ax = sns.lineplot(x=\"PCA\", y=\"Accuracy Score\", data=df_rf_accuracy_nosmote.reset_index())\n",
    "plt.title('Sub Category - Random Forest Accuracy Score x N Components on PCA - Without SMOTE')"
   ]
  },
  {
   "cell_type": "code",
   "execution_count": 46,
   "metadata": {},
   "outputs": [
    {
     "data": {
      "text/html": [
       "<div>\n",
       "<style scoped>\n",
       "    .dataframe tbody tr th:only-of-type {\n",
       "        vertical-align: middle;\n",
       "    }\n",
       "\n",
       "    .dataframe tbody tr th {\n",
       "        vertical-align: top;\n",
       "    }\n",
       "\n",
       "    .dataframe thead th {\n",
       "        text-align: right;\n",
       "    }\n",
       "</style>\n",
       "<table border=\"1\" class=\"dataframe\">\n",
       "  <thead>\n",
       "    <tr style=\"text-align: right;\">\n",
       "      <th></th>\n",
       "      <th>PCA</th>\n",
       "      <th>Accuracy Score</th>\n",
       "    </tr>\n",
       "  </thead>\n",
       "  <tbody>\n",
       "    <tr>\n",
       "      <td>0</td>\n",
       "      <td>4</td>\n",
       "      <td>0.777140</td>\n",
       "    </tr>\n",
       "    <tr>\n",
       "      <td>1</td>\n",
       "      <td>8</td>\n",
       "      <td>0.894748</td>\n",
       "    </tr>\n",
       "    <tr>\n",
       "      <td>2</td>\n",
       "      <td>12</td>\n",
       "      <td>0.919903</td>\n",
       "    </tr>\n",
       "    <tr>\n",
       "      <td>3</td>\n",
       "      <td>16</td>\n",
       "      <td>0.932921</td>\n",
       "    </tr>\n",
       "    <tr>\n",
       "      <td>4</td>\n",
       "      <td>20</td>\n",
       "      <td>0.936893</td>\n",
       "    </tr>\n",
       "    <tr>\n",
       "      <td>5</td>\n",
       "      <td>24</td>\n",
       "      <td>0.940424</td>\n",
       "    </tr>\n",
       "    <tr>\n",
       "      <td>6</td>\n",
       "      <td>30</td>\n",
       "      <td>0.943292</td>\n",
       "    </tr>\n",
       "    <tr>\n",
       "      <td>7</td>\n",
       "      <td>40</td>\n",
       "      <td>0.942189</td>\n",
       "    </tr>\n",
       "  </tbody>\n",
       "</table>\n",
       "</div>"
      ],
      "text/plain": [
       "   PCA  Accuracy Score\n",
       "0    4        0.777140\n",
       "1    8        0.894748\n",
       "2   12        0.919903\n",
       "3   16        0.932921\n",
       "4   20        0.936893\n",
       "5   24        0.940424\n",
       "6   30        0.943292\n",
       "7   40        0.942189"
      ]
     },
     "execution_count": 46,
     "metadata": {},
     "output_type": "execute_result"
    }
   ],
   "source": [
    "xgb_models_nosmote = []\n",
    "xgb_accuracy_scores_nosmote = []\n",
    "\n",
    "xgboost_nosmote()\n",
    "    \n",
    "df_xgb_accuracy_nosmote = pd.DataFrame(xgb_accuracy_scores_nosmote,index=n_pca,columns=['Accuracy Score'])\n",
    "df_xgb_accuracy_nosmote.index.name = 'PCA'\n",
    "df_xgb_accuracy_nosmote.reset_index()"
   ]
  },
  {
   "cell_type": "code",
   "execution_count": 47,
   "metadata": {},
   "outputs": [
    {
     "data": {
      "text/plain": [
       "Text(0.5, 1.0, 'Sub Category - XGBoost Accuracy Score x N Components on PCA - Without SMOTE')"
      ]
     },
     "execution_count": 47,
     "metadata": {},
     "output_type": "execute_result"
    },
    {
     "data": {
      "image/png": "[encoded data removed]",
      "text/plain": [
       "<Figure size 720x360 with 1 Axes>"
      ]
     },
     "metadata": {},
     "output_type": "display_data"
    }
   ],
   "source": [
    "plt.figure(figsize=(10,5))\n",
    "ax = sns.lineplot(x=\"PCA\", y=\"Accuracy Score\", data=df_xgb_accuracy_nosmote.reset_index())\n",
    "plt.title('Sub Category - XGBoost Accuracy Score x N Components on PCA - Without SMOTE')"
   ]
  },
  {
   "cell_type": "markdown",
   "metadata": {},
   "source": [
    "> Highest accuracy score on random forest using smote with PCA n=40"
   ]
  },
  {
   "cell_type": "markdown",
   "metadata": {},
   "source": [
    "> Just as planned as before, if the result on master category model is better, we can remodel for sub category by adding a master category as a feature. Hoping it will have better results."
   ]
  },
  {
   "cell_type": "code",
   "execution_count": 48,
   "metadata": {},
   "outputs": [],
   "source": [
    "model_subCategory = rf_models[7]\n",
    "pickle.dump(model_subCategory, open('model_subCategory.sav', 'wb'))"
   ]
  },
  {
   "cell_type": "markdown",
   "metadata": {},
   "source": [
    "### Master Category"
   ]
  },
  {
   "cell_type": "markdown",
   "metadata": {},
   "source": [
    "### Random Forest"
   ]
  },
  {
   "cell_type": "code",
   "execution_count": 56,
   "metadata": {},
   "outputs": [
    {
     "data": {
      "text/html": [
       "<div>\n",
       "<style scoped>\n",
       "    .dataframe tbody tr th:only-of-type {\n",
       "        vertical-align: middle;\n",
       "    }\n",
       "\n",
       "    .dataframe tbody tr th {\n",
       "        vertical-align: top;\n",
       "    }\n",
       "\n",
       "    .dataframe thead th {\n",
       "        text-align: right;\n",
       "    }\n",
       "</style>\n",
       "<table border=\"1\" class=\"dataframe\">\n",
       "  <thead>\n",
       "    <tr style=\"text-align: right;\">\n",
       "      <th></th>\n",
       "      <th>PCA</th>\n",
       "      <th>Accuracy Score</th>\n",
       "    </tr>\n",
       "  </thead>\n",
       "  <tbody>\n",
       "    <tr>\n",
       "      <td>0</td>\n",
       "      <td>4</td>\n",
       "      <td>0.956752</td>\n",
       "    </tr>\n",
       "    <tr>\n",
       "      <td>1</td>\n",
       "      <td>8</td>\n",
       "      <td>0.980803</td>\n",
       "    </tr>\n",
       "    <tr>\n",
       "      <td>2</td>\n",
       "      <td>12</td>\n",
       "      <td>0.985878</td>\n",
       "    </tr>\n",
       "    <tr>\n",
       "      <td>3</td>\n",
       "      <td>16</td>\n",
       "      <td>0.986981</td>\n",
       "    </tr>\n",
       "    <tr>\n",
       "      <td>4</td>\n",
       "      <td>20</td>\n",
       "      <td>0.989629</td>\n",
       "    </tr>\n",
       "    <tr>\n",
       "      <td>5</td>\n",
       "      <td>24</td>\n",
       "      <td>0.989188</td>\n",
       "    </tr>\n",
       "    <tr>\n",
       "      <td>6</td>\n",
       "      <td>30</td>\n",
       "      <td>0.989629</td>\n",
       "    </tr>\n",
       "    <tr>\n",
       "      <td>7</td>\n",
       "      <td>40</td>\n",
       "      <td>0.989629</td>\n",
       "    </tr>\n",
       "  </tbody>\n",
       "</table>\n",
       "</div>"
      ],
      "text/plain": [
       "   PCA  Accuracy Score\n",
       "0    4        0.956752\n",
       "1    8        0.980803\n",
       "2   12        0.985878\n",
       "3   16        0.986981\n",
       "4   20        0.989629\n",
       "5   24        0.989188\n",
       "6   30        0.989629\n",
       "7   40        0.989629"
      ]
     },
     "execution_count": 56,
     "metadata": {},
     "output_type": "execute_result"
    }
   ],
   "source": [
    "n_pca = [4,8,12,16,20,24,30,40]\n",
    "\n",
    "pca = []\n",
    "smote_x = []\n",
    "smote_y = []\n",
    "x_trains = []\n",
    "y_trains = []\n",
    "x_tests = []\n",
    "y_tests = []\n",
    "rf_models = []\n",
    "rf_accuracy_scores = []\n",
    "\n",
    "do_first_randomforest_smote('masterCategory')\n",
    "    \n",
    "df_rf_accuracy = pd.DataFrame(rf_accuracy_scores,index=n_pca,columns=['Accuracy Score'])\n",
    "df_rf_accuracy.index.name = 'PCA'\n",
    "df_rf_accuracy.reset_index()"
   ]
  },
  {
   "cell_type": "code",
   "execution_count": 24,
   "metadata": {},
   "outputs": [
    {
     "data": {
      "text/plain": [
       "Text(0.5, 1.0, 'Master Category - Random Forest Accuracy Score x N Components on PCA')"
      ]
     },
     "execution_count": 24,
     "metadata": {},
     "output_type": "execute_result"
    },
    {
     "data": {
      "image/png": "[encoded data removed]",
      "text/plain": [
       "<Figure size 720x360 with 1 Axes>"
      ]
     },
     "metadata": {},
     "output_type": "display_data"
    }
   ],
   "source": [
    "plt.figure(figsize=(10,5))\n",
    "ax = sns.lineplot(x=\"PCA\", y=\"Accuracy Score\", data=df_rf_accuracy.reset_index())\n",
    "plt.title('Master Category - Random Forest Accuracy Score x N Components on PCA')"
   ]
  },
  {
   "cell_type": "markdown",
   "metadata": {},
   "source": [
    "#### XGBoost"
   ]
  },
  {
   "cell_type": "code",
   "execution_count": 57,
   "metadata": {},
   "outputs": [
    {
     "data": {
      "text/html": [
       "<div>\n",
       "<style scoped>\n",
       "    .dataframe tbody tr th:only-of-type {\n",
       "        vertical-align: middle;\n",
       "    }\n",
       "\n",
       "    .dataframe tbody tr th {\n",
       "        vertical-align: top;\n",
       "    }\n",
       "\n",
       "    .dataframe thead th {\n",
       "        text-align: right;\n",
       "    }\n",
       "</style>\n",
       "<table border=\"1\" class=\"dataframe\">\n",
       "  <thead>\n",
       "    <tr style=\"text-align: right;\">\n",
       "      <th></th>\n",
       "      <th>PCA</th>\n",
       "      <th>Accuracy Score</th>\n",
       "    </tr>\n",
       "  </thead>\n",
       "  <tbody>\n",
       "    <tr>\n",
       "      <td>0</td>\n",
       "      <td>4</td>\n",
       "      <td>0.954545</td>\n",
       "    </tr>\n",
       "    <tr>\n",
       "      <td>1</td>\n",
       "      <td>8</td>\n",
       "      <td>0.981024</td>\n",
       "    </tr>\n",
       "    <tr>\n",
       "      <td>2</td>\n",
       "      <td>12</td>\n",
       "      <td>0.988747</td>\n",
       "    </tr>\n",
       "    <tr>\n",
       "      <td>3</td>\n",
       "      <td>16</td>\n",
       "      <td>0.988305</td>\n",
       "    </tr>\n",
       "    <tr>\n",
       "      <td>4</td>\n",
       "      <td>20</td>\n",
       "      <td>0.991395</td>\n",
       "    </tr>\n",
       "    <tr>\n",
       "      <td>5</td>\n",
       "      <td>24</td>\n",
       "      <td>0.989629</td>\n",
       "    </tr>\n",
       "    <tr>\n",
       "      <td>6</td>\n",
       "      <td>30</td>\n",
       "      <td>0.991174</td>\n",
       "    </tr>\n",
       "    <tr>\n",
       "      <td>7</td>\n",
       "      <td>40</td>\n",
       "      <td>0.989629</td>\n",
       "    </tr>\n",
       "  </tbody>\n",
       "</table>\n",
       "</div>"
      ],
      "text/plain": [
       "   PCA  Accuracy Score\n",
       "0    4        0.954545\n",
       "1    8        0.981024\n",
       "2   12        0.988747\n",
       "3   16        0.988305\n",
       "4   20        0.991395\n",
       "5   24        0.989629\n",
       "6   30        0.991174\n",
       "7   40        0.989629"
      ]
     },
     "execution_count": 57,
     "metadata": {},
     "output_type": "execute_result"
    }
   ],
   "source": [
    "xgb_models = []\n",
    "xgb_accuracy_scores = []\n",
    "\n",
    "xgboost_smote()\n",
    "    \n",
    "df_xgb_accuracy = pd.DataFrame(xgb_accuracy_scores,index=n_pca,columns=['Accuracy Score'])\n",
    "df_xgb_accuracy.index.name = 'PCA'\n",
    "df_xgb_accuracy.reset_index()"
   ]
  },
  {
   "cell_type": "code",
   "execution_count": 26,
   "metadata": {},
   "outputs": [
    {
     "data": {
      "text/plain": [
       "Text(0.5, 1.0, 'Master Category - XGBoost Accuracy Score x N Components on PCA')"
      ]
     },
     "execution_count": 26,
     "metadata": {},
     "output_type": "execute_result"
    },
    {
     "data": {
      "image/png": "[encoded data removed]",
      "text/plain": [
       "<Figure size 720x360 with 1 Axes>"
      ]
     },
     "metadata": {},
     "output_type": "display_data"
    }
   ],
   "source": [
    "plt.figure(figsize=(10,5))\n",
    "ax = sns.lineplot(x=\"PCA\", y=\"Accuracy Score\", data=df_xgb_accuracy.reset_index())\n",
    "plt.title('Master Category - XGBoost Accuracy Score x N Components on PCA')"
   ]
  },
  {
   "cell_type": "markdown",
   "metadata": {},
   "source": [
    "### Without SMOTE"
   ]
  },
  {
   "cell_type": "code",
   "execution_count": 27,
   "metadata": {},
   "outputs": [
    {
     "data": {
      "text/html": [
       "<div>\n",
       "<style scoped>\n",
       "    .dataframe tbody tr th:only-of-type {\n",
       "        vertical-align: middle;\n",
       "    }\n",
       "\n",
       "    .dataframe tbody tr th {\n",
       "        vertical-align: top;\n",
       "    }\n",
       "\n",
       "    .dataframe thead th {\n",
       "        text-align: right;\n",
       "    }\n",
       "</style>\n",
       "<table border=\"1\" class=\"dataframe\">\n",
       "  <thead>\n",
       "    <tr style=\"text-align: right;\">\n",
       "      <th></th>\n",
       "      <th>PCA</th>\n",
       "      <th>Accuracy Score</th>\n",
       "    </tr>\n",
       "  </thead>\n",
       "  <tbody>\n",
       "    <tr>\n",
       "      <td>0</td>\n",
       "      <td>4</td>\n",
       "      <td>0.958076</td>\n",
       "    </tr>\n",
       "    <tr>\n",
       "      <td>1</td>\n",
       "      <td>8</td>\n",
       "      <td>0.980362</td>\n",
       "    </tr>\n",
       "    <tr>\n",
       "      <td>2</td>\n",
       "      <td>12</td>\n",
       "      <td>0.984554</td>\n",
       "    </tr>\n",
       "    <tr>\n",
       "      <td>3</td>\n",
       "      <td>16</td>\n",
       "      <td>0.986099</td>\n",
       "    </tr>\n",
       "    <tr>\n",
       "      <td>4</td>\n",
       "      <td>20</td>\n",
       "      <td>0.988747</td>\n",
       "    </tr>\n",
       "    <tr>\n",
       "      <td>5</td>\n",
       "      <td>24</td>\n",
       "      <td>0.989409</td>\n",
       "    </tr>\n",
       "    <tr>\n",
       "      <td>6</td>\n",
       "      <td>30</td>\n",
       "      <td>0.988967</td>\n",
       "    </tr>\n",
       "    <tr>\n",
       "      <td>7</td>\n",
       "      <td>40</td>\n",
       "      <td>0.988747</td>\n",
       "    </tr>\n",
       "  </tbody>\n",
       "</table>\n",
       "</div>"
      ],
      "text/plain": [
       "   PCA  Accuracy Score\n",
       "0    4        0.958076\n",
       "1    8        0.980362\n",
       "2   12        0.984554\n",
       "3   16        0.986099\n",
       "4   20        0.988747\n",
       "5   24        0.989409\n",
       "6   30        0.988967\n",
       "7   40        0.988747"
      ]
     },
     "execution_count": 27,
     "metadata": {},
     "output_type": "execute_result"
    }
   ],
   "source": [
    "rf_models_nosmote = []\n",
    "rf_accuracy_scores_nosmote = []\n",
    "\n",
    "randomforest_nosmote()\n",
    "    \n",
    "df_rf_accuracy_nosmote = pd.DataFrame(rf_accuracy_scores_nosmote,index=n_pca,columns=['Accuracy Score'])\n",
    "df_rf_accuracy_nosmote.index.name = 'PCA'\n",
    "df_rf_accuracy_nosmote.reset_index()"
   ]
  },
  {
   "cell_type": "code",
   "execution_count": 28,
   "metadata": {},
   "outputs": [
    {
     "data": {
      "text/plain": [
       "Text(0.5, 1.0, 'Master Category - Random Forest Accuracy Score x N Components on PCA - Without SMOTE')"
      ]
     },
     "execution_count": 28,
     "metadata": {},
     "output_type": "execute_result"
    },
    {
     "data": {
      "image/png": "[encoded data removed]",
      "text/plain": [
       "<Figure size 720x360 with 1 Axes>"
      ]
     },
     "metadata": {},
     "output_type": "display_data"
    }
   ],
   "source": [
    "plt.figure(figsize=(10,5))\n",
    "ax = sns.lineplot(x=\"PCA\", y=\"Accuracy Score\", data=df_rf_accuracy_nosmote.reset_index())\n",
    "plt.title('Master Category - Random Forest Accuracy Score x N Components on PCA - Without SMOTE')"
   ]
  },
  {
   "cell_type": "code",
   "execution_count": 29,
   "metadata": {},
   "outputs": [
    {
     "data": {
      "text/html": [
       "<div>\n",
       "<style scoped>\n",
       "    .dataframe tbody tr th:only-of-type {\n",
       "        vertical-align: middle;\n",
       "    }\n",
       "\n",
       "    .dataframe tbody tr th {\n",
       "        vertical-align: top;\n",
       "    }\n",
       "\n",
       "    .dataframe thead th {\n",
       "        text-align: right;\n",
       "    }\n",
       "</style>\n",
       "<table border=\"1\" class=\"dataframe\">\n",
       "  <thead>\n",
       "    <tr style=\"text-align: right;\">\n",
       "      <th></th>\n",
       "      <th>PCA</th>\n",
       "      <th>Accuracy Score</th>\n",
       "    </tr>\n",
       "  </thead>\n",
       "  <tbody>\n",
       "    <tr>\n",
       "      <td>0</td>\n",
       "      <td>4</td>\n",
       "      <td>0.956752</td>\n",
       "    </tr>\n",
       "    <tr>\n",
       "      <td>1</td>\n",
       "      <td>8</td>\n",
       "      <td>0.983010</td>\n",
       "    </tr>\n",
       "    <tr>\n",
       "      <td>2</td>\n",
       "      <td>12</td>\n",
       "      <td>0.986761</td>\n",
       "    </tr>\n",
       "    <tr>\n",
       "      <td>3</td>\n",
       "      <td>16</td>\n",
       "      <td>0.988305</td>\n",
       "    </tr>\n",
       "    <tr>\n",
       "      <td>4</td>\n",
       "      <td>20</td>\n",
       "      <td>0.991174</td>\n",
       "    </tr>\n",
       "    <tr>\n",
       "      <td>5</td>\n",
       "      <td>24</td>\n",
       "      <td>0.990733</td>\n",
       "    </tr>\n",
       "    <tr>\n",
       "      <td>6</td>\n",
       "      <td>30</td>\n",
       "      <td>0.990733</td>\n",
       "    </tr>\n",
       "    <tr>\n",
       "      <td>7</td>\n",
       "      <td>40</td>\n",
       "      <td>0.989629</td>\n",
       "    </tr>\n",
       "  </tbody>\n",
       "</table>\n",
       "</div>"
      ],
      "text/plain": [
       "   PCA  Accuracy Score\n",
       "0    4        0.956752\n",
       "1    8        0.983010\n",
       "2   12        0.986761\n",
       "3   16        0.988305\n",
       "4   20        0.991174\n",
       "5   24        0.990733\n",
       "6   30        0.990733\n",
       "7   40        0.989629"
      ]
     },
     "execution_count": 29,
     "metadata": {},
     "output_type": "execute_result"
    }
   ],
   "source": [
    "xgb_models_nosmote = []\n",
    "xgb_accuracy_scores_nosmote = []\n",
    "\n",
    "xgboost_nosmote()\n",
    "    \n",
    "df_xgb_accuracy_nosmote = pd.DataFrame(xgb_accuracy_scores_nosmote,index=n_pca,columns=['Accuracy Score'])\n",
    "df_xgb_accuracy_nosmote.index.name = 'PCA'\n",
    "df_xgb_accuracy_nosmote.reset_index()"
   ]
  },
  {
   "cell_type": "code",
   "execution_count": 30,
   "metadata": {},
   "outputs": [
    {
     "data": {
      "text/plain": [
       "Text(0.5, 1.0, 'Master Category - XGBoost Accuracy Score x N Components on PCA - Without SMOTE')"
      ]
     },
     "execution_count": 30,
     "metadata": {},
     "output_type": "execute_result"
    },
    {
     "data": {
      "image/png": "[encoded data removed]",
      "text/plain": [
       "<Figure size 720x360 with 1 Axes>"
      ]
     },
     "metadata": {},
     "output_type": "display_data"
    }
   ],
   "source": [
    "plt.figure(figsize=(10,5))\n",
    "ax = sns.lineplot(x=\"PCA\", y=\"Accuracy Score\", data=df_xgb_accuracy_nosmote.reset_index())\n",
    "plt.title('Master Category - XGBoost Accuracy Score x N Components on PCA - Without SMOTE')"
   ]
  },
  {
   "cell_type": "markdown",
   "metadata": {},
   "source": [
    "> The result is surprising because the accuracy score is very high (+0.99)"
   ]
  },
  {
   "cell_type": "markdown",
   "metadata": {},
   "source": [
    "> So we take XGBoost using SMOTE and PCA n=20."
   ]
  },
  {
   "cell_type": "code",
   "execution_count": 58,
   "metadata": {},
   "outputs": [],
   "source": [
    "model_masterCategory = xgb_models[4]\n",
    "pickle.dump(model_masterCategory, open('model_masterCategory_final.sav', 'wb'))\n",
    "\n",
    "pca_masterCategory_n20 = pca[4]\n",
    "pickle.dump(pca_masterCategory_n20, open('pca_masterCategory_n20.sav', 'wb'))"
   ]
  },
  {
   "cell_type": "markdown",
   "metadata": {},
   "source": [
    "### Adding larger categories as training feature for smaller categories"
   ]
  },
  {
   "cell_type": "markdown",
   "metadata": {},
   "source": [
    "Because there will be an additional categorical data, we will be using get dummies to convert it into numerical"
   ]
  },
  {
   "cell_type": "markdown",
   "metadata": {},
   "source": [
    "#### Sub Category"
   ]
  },
  {
   "cell_type": "code",
   "execution_count": 34,
   "metadata": {},
   "outputs": [],
   "source": [
    "def do_second_randomforest_smote(col):\n",
    "    for i in n_pca:\n",
    "        # scaling\n",
    "        scaler = StandardScaler()\n",
    "        scaler.fit(df_embs)\n",
    "        scaled_data = scaler.transform(df_embs)\n",
    "\n",
    "        # pca\n",
    "        t_pca = PCA(n_components=i,random_state=101)\n",
    "        t_pca.fit(scaled_data)\n",
    "        pca.append(t_pca)\n",
    "        feature_pca = t_pca.transform(df_embs)\n",
    "        dfPCA = pd.DataFrame(feature_pca,columns=['PCA'+str(j) for j in range(1,i+1)])\n",
    "        \n",
    "        # adding feature\n",
    "        dfPCA = dfPCA.join(pd.get_dummies(df[['masterCategory']],drop_first=True))\n",
    "        \n",
    "        # split data\n",
    "        X = dfPCA\n",
    "        y = df[col]\n",
    "        X_train, X_test, y_train, y_test = train_test_split(X,y,test_size=0.2,random_state=101)\n",
    "\n",
    "        x_trains.append(X_train)\n",
    "        y_trains.append(y_train)\n",
    "        x_tests.append(X_test)\n",
    "        y_tests.append(y_test)\n",
    "        \n",
    "        # oversampling SMOTE\n",
    "        sm = SMOTE(random_state=101)\n",
    "        X_sm, y_sm = sm.fit_sample(X_train,y_train)\n",
    "        smote_x.append(X_sm)\n",
    "        smote_y.append(y_sm)\n",
    "\n",
    "        rf_accuracy_scores.append(get_score_randomforest(X_sm,X_test,y_sm,y_test))"
   ]
  },
  {
   "cell_type": "code",
   "execution_count": 35,
   "metadata": {},
   "outputs": [
    {
     "data": {
      "text/html": [
       "<div>\n",
       "<style scoped>\n",
       "    .dataframe tbody tr th:only-of-type {\n",
       "        vertical-align: middle;\n",
       "    }\n",
       "\n",
       "    .dataframe tbody tr th {\n",
       "        vertical-align: top;\n",
       "    }\n",
       "\n",
       "    .dataframe thead th {\n",
       "        text-align: right;\n",
       "    }\n",
       "</style>\n",
       "<table border=\"1\" class=\"dataframe\">\n",
       "  <thead>\n",
       "    <tr style=\"text-align: right;\">\n",
       "      <th></th>\n",
       "      <th>PCA</th>\n",
       "      <th>Accuracy Score</th>\n",
       "    </tr>\n",
       "  </thead>\n",
       "  <tbody>\n",
       "    <tr>\n",
       "      <td>0</td>\n",
       "      <td>20</td>\n",
       "      <td>0.945940</td>\n",
       "    </tr>\n",
       "    <tr>\n",
       "      <td>1</td>\n",
       "      <td>24</td>\n",
       "      <td>0.947926</td>\n",
       "    </tr>\n",
       "    <tr>\n",
       "      <td>2</td>\n",
       "      <td>30</td>\n",
       "      <td>0.946823</td>\n",
       "    </tr>\n",
       "    <tr>\n",
       "      <td>3</td>\n",
       "      <td>40</td>\n",
       "      <td>0.954104</td>\n",
       "    </tr>\n",
       "  </tbody>\n",
       "</table>\n",
       "</div>"
      ],
      "text/plain": [
       "   PCA  Accuracy Score\n",
       "0   20        0.945940\n",
       "1   24        0.947926\n",
       "2   30        0.946823\n",
       "3   40        0.954104"
      ]
     },
     "execution_count": 35,
     "metadata": {},
     "output_type": "execute_result"
    }
   ],
   "source": [
    "# remove the lower values because from the data before, the optimum results are on the higher values\n",
    "n_pca = [20,24,30,40]\n",
    "\n",
    "pca = []\n",
    "smote_x = []\n",
    "smote_y = []\n",
    "x_trains = []\n",
    "y_trains = []\n",
    "x_tests = []\n",
    "y_tests = []\n",
    "rf_models = []\n",
    "rf_accuracy_scores = []\n",
    "\n",
    "do_second_randomforest_smote('subCategory')\n",
    "    \n",
    "df_rf_accuracy = pd.DataFrame(rf_accuracy_scores,index=n_pca,columns=['Accuracy Score'])\n",
    "df_rf_accuracy.index.name = 'PCA'\n",
    "df_rf_accuracy.reset_index()"
   ]
  },
  {
   "cell_type": "code",
   "execution_count": 36,
   "metadata": {},
   "outputs": [
    {
     "data": {
      "text/html": [
       "<div>\n",
       "<style scoped>\n",
       "    .dataframe tbody tr th:only-of-type {\n",
       "        vertical-align: middle;\n",
       "    }\n",
       "\n",
       "    .dataframe tbody tr th {\n",
       "        vertical-align: top;\n",
       "    }\n",
       "\n",
       "    .dataframe thead th {\n",
       "        text-align: right;\n",
       "    }\n",
       "</style>\n",
       "<table border=\"1\" class=\"dataframe\">\n",
       "  <thead>\n",
       "    <tr style=\"text-align: right;\">\n",
       "      <th></th>\n",
       "      <th>PCA</th>\n",
       "      <th>Accuracy Score</th>\n",
       "    </tr>\n",
       "  </thead>\n",
       "  <tbody>\n",
       "    <tr>\n",
       "      <td>0</td>\n",
       "      <td>20</td>\n",
       "      <td>0.947043</td>\n",
       "    </tr>\n",
       "    <tr>\n",
       "      <td>1</td>\n",
       "      <td>24</td>\n",
       "      <td>0.943954</td>\n",
       "    </tr>\n",
       "    <tr>\n",
       "      <td>2</td>\n",
       "      <td>30</td>\n",
       "      <td>0.950132</td>\n",
       "    </tr>\n",
       "    <tr>\n",
       "      <td>3</td>\n",
       "      <td>40</td>\n",
       "      <td>0.949029</td>\n",
       "    </tr>\n",
       "  </tbody>\n",
       "</table>\n",
       "</div>"
      ],
      "text/plain": [
       "   PCA  Accuracy Score\n",
       "0   20        0.947043\n",
       "1   24        0.943954\n",
       "2   30        0.950132\n",
       "3   40        0.949029"
      ]
     },
     "execution_count": 36,
     "metadata": {},
     "output_type": "execute_result"
    }
   ],
   "source": [
    "xgb_models = []\n",
    "xgb_accuracy_scores = []\n",
    "\n",
    "xgboost_smote()\n",
    "    \n",
    "df_xgb_accuracy = pd.DataFrame(xgb_accuracy_scores,index=n_pca,columns=['Accuracy Score'])\n",
    "df_xgb_accuracy.index.name = 'PCA'\n",
    "df_xgb_accuracy.reset_index()"
   ]
  },
  {
   "cell_type": "markdown",
   "metadata": {},
   "source": [
    "### Without SMOTE"
   ]
  },
  {
   "cell_type": "code",
   "execution_count": 37,
   "metadata": {},
   "outputs": [
    {
     "data": {
      "text/html": [
       "<div>\n",
       "<style scoped>\n",
       "    .dataframe tbody tr th:only-of-type {\n",
       "        vertical-align: middle;\n",
       "    }\n",
       "\n",
       "    .dataframe tbody tr th {\n",
       "        vertical-align: top;\n",
       "    }\n",
       "\n",
       "    .dataframe thead th {\n",
       "        text-align: right;\n",
       "    }\n",
       "</style>\n",
       "<table border=\"1\" class=\"dataframe\">\n",
       "  <thead>\n",
       "    <tr style=\"text-align: right;\">\n",
       "      <th></th>\n",
       "      <th>PCA</th>\n",
       "      <th>Accuracy Score</th>\n",
       "    </tr>\n",
       "  </thead>\n",
       "  <tbody>\n",
       "    <tr>\n",
       "      <td>0</td>\n",
       "      <td>20</td>\n",
       "      <td>0.942410</td>\n",
       "    </tr>\n",
       "    <tr>\n",
       "      <td>1</td>\n",
       "      <td>24</td>\n",
       "      <td>0.942630</td>\n",
       "    </tr>\n",
       "    <tr>\n",
       "      <td>2</td>\n",
       "      <td>30</td>\n",
       "      <td>0.944175</td>\n",
       "    </tr>\n",
       "    <tr>\n",
       "      <td>3</td>\n",
       "      <td>40</td>\n",
       "      <td>0.943513</td>\n",
       "    </tr>\n",
       "  </tbody>\n",
       "</table>\n",
       "</div>"
      ],
      "text/plain": [
       "   PCA  Accuracy Score\n",
       "0   20        0.942410\n",
       "1   24        0.942630\n",
       "2   30        0.944175\n",
       "3   40        0.943513"
      ]
     },
     "execution_count": 37,
     "metadata": {},
     "output_type": "execute_result"
    }
   ],
   "source": [
    "rf_models_nosmote = []\n",
    "rf_accuracy_scores_nosmote = []\n",
    "\n",
    "randomforest_nosmote()\n",
    "    \n",
    "df_rf_accuracy_nosmote = pd.DataFrame(rf_accuracy_scores_nosmote,index=n_pca,columns=['Accuracy Score'])\n",
    "df_rf_accuracy_nosmote.index.name = 'PCA'\n",
    "df_rf_accuracy_nosmote.reset_index()"
   ]
  },
  {
   "cell_type": "code",
   "execution_count": 38,
   "metadata": {},
   "outputs": [
    {
     "data": {
      "text/html": [
       "<div>\n",
       "<style scoped>\n",
       "    .dataframe tbody tr th:only-of-type {\n",
       "        vertical-align: middle;\n",
       "    }\n",
       "\n",
       "    .dataframe tbody tr th {\n",
       "        vertical-align: top;\n",
       "    }\n",
       "\n",
       "    .dataframe thead th {\n",
       "        text-align: right;\n",
       "    }\n",
       "</style>\n",
       "<table border=\"1\" class=\"dataframe\">\n",
       "  <thead>\n",
       "    <tr style=\"text-align: right;\">\n",
       "      <th></th>\n",
       "      <th>PCA</th>\n",
       "      <th>Accuracy Score</th>\n",
       "    </tr>\n",
       "  </thead>\n",
       "  <tbody>\n",
       "    <tr>\n",
       "      <td>0</td>\n",
       "      <td>20</td>\n",
       "      <td>0.944395</td>\n",
       "    </tr>\n",
       "    <tr>\n",
       "      <td>1</td>\n",
       "      <td>24</td>\n",
       "      <td>0.947705</td>\n",
       "    </tr>\n",
       "    <tr>\n",
       "      <td>2</td>\n",
       "      <td>30</td>\n",
       "      <td>0.948588</td>\n",
       "    </tr>\n",
       "    <tr>\n",
       "      <td>3</td>\n",
       "      <td>40</td>\n",
       "      <td>0.952560</td>\n",
       "    </tr>\n",
       "  </tbody>\n",
       "</table>\n",
       "</div>"
      ],
      "text/plain": [
       "   PCA  Accuracy Score\n",
       "0   20        0.944395\n",
       "1   24        0.947705\n",
       "2   30        0.948588\n",
       "3   40        0.952560"
      ]
     },
     "execution_count": 38,
     "metadata": {},
     "output_type": "execute_result"
    }
   ],
   "source": [
    "xgb_models_nosmote = []\n",
    "xgb_accuracy_scores_nosmote = []\n",
    "\n",
    "xgboost_nosmote()\n",
    "    \n",
    "df_xgb_accuracy_nosmote = pd.DataFrame(xgb_accuracy_scores_nosmote,index=n_pca,columns=['Accuracy Score'])\n",
    "df_xgb_accuracy_nosmote.index.name = 'PCA'\n",
    "df_xgb_accuracy_nosmote.reset_index()"
   ]
  },
  {
   "cell_type": "markdown",
   "metadata": {},
   "source": [
    "> As expected, the results are better. The best model here is Random Forest with SMOTE and PCA n=40"
   ]
  },
  {
   "cell_type": "code",
   "execution_count": 39,
   "metadata": {},
   "outputs": [],
   "source": [
    "model_subCategory = rf_models[3]\n",
    "pickle.dump(model_subCategory, open('model_subCategory_final.sav', 'wb'))\n",
    "\n",
    "pca_subCategory_n40 = pca[3]\n",
    "pickle.dump(pca_subCategory_n40, open('pca_subCategory_n40.sav', 'wb'))"
   ]
  },
  {
   "cell_type": "markdown",
   "metadata": {},
   "source": [
    "Now we be using the same method for articleType but with additional subCategory as a feature"
   ]
  },
  {
   "cell_type": "markdown",
   "metadata": {},
   "source": [
    "### Article Type"
   ]
  },
  {
   "cell_type": "code",
   "execution_count": 40,
   "metadata": {},
   "outputs": [],
   "source": [
    "def do_third_randomforest_smote(col):\n",
    "    for i in n_pca:\n",
    "        # scaling\n",
    "        scaler = StandardScaler()\n",
    "        scaler.fit(df_embs)\n",
    "        scaled_data = scaler.transform(df_embs)\n",
    "\n",
    "        # pca\n",
    "        t_pca = PCA(n_components=i,random_state=101)\n",
    "        t_pca.fit(scaled_data)\n",
    "        pca.append(t_pca)\n",
    "        feature_pca = t_pca.transform(df_embs)\n",
    "        dfPCA = pd.DataFrame(feature_pca,columns=['PCA'+str(j) for j in range(1,i+1)])\n",
    "        \n",
    "        # adding feature\n",
    "        dfPCA = dfPCA.join(pd.get_dummies(df[['masterCategory']],drop_first=True))\n",
    "        dfPCA = dfPCA.join(pd.get_dummies(df[['subCategory']],drop_first=True))\n",
    "        \n",
    "        # split data\n",
    "        X = dfPCA\n",
    "        y = df[col]\n",
    "        X_train, X_test, y_train, y_test = train_test_split(X,y,test_size=0.2,random_state=101)\n",
    "\n",
    "        x_trains.append(X_train)\n",
    "        y_trains.append(y_train)\n",
    "        x_tests.append(X_test)\n",
    "        y_tests.append(y_test)\n",
    "        \n",
    "        # oversampling SMOTE\n",
    "        sm = SMOTE(random_state=101)\n",
    "        X_sm, y_sm = sm.fit_sample(X_train,y_train)\n",
    "        smote_x.append(X_sm)\n",
    "        smote_y.append(y_sm)\n",
    "\n",
    "        rf_accuracy_scores.append(get_score_randomforest(X_sm,X_test,y_sm,y_test))"
   ]
  },
  {
   "cell_type": "code",
   "execution_count": 41,
   "metadata": {},
   "outputs": [
    {
     "data": {
      "text/html": [
       "<div>\n",
       "<style scoped>\n",
       "    .dataframe tbody tr th:only-of-type {\n",
       "        vertical-align: middle;\n",
       "    }\n",
       "\n",
       "    .dataframe tbody tr th {\n",
       "        vertical-align: top;\n",
       "    }\n",
       "\n",
       "    .dataframe thead th {\n",
       "        text-align: right;\n",
       "    }\n",
       "</style>\n",
       "<table border=\"1\" class=\"dataframe\">\n",
       "  <thead>\n",
       "    <tr style=\"text-align: right;\">\n",
       "      <th></th>\n",
       "      <th>PCA</th>\n",
       "      <th>Accuracy Score</th>\n",
       "    </tr>\n",
       "  </thead>\n",
       "  <tbody>\n",
       "    <tr>\n",
       "      <td>0</td>\n",
       "      <td>20</td>\n",
       "      <td>0.858120</td>\n",
       "    </tr>\n",
       "    <tr>\n",
       "      <td>1</td>\n",
       "      <td>24</td>\n",
       "      <td>0.864298</td>\n",
       "    </tr>\n",
       "    <tr>\n",
       "      <td>2</td>\n",
       "      <td>30</td>\n",
       "      <td>0.869153</td>\n",
       "    </tr>\n",
       "    <tr>\n",
       "      <td>3</td>\n",
       "      <td>40</td>\n",
       "      <td>0.876655</td>\n",
       "    </tr>\n",
       "  </tbody>\n",
       "</table>\n",
       "</div>"
      ],
      "text/plain": [
       "   PCA  Accuracy Score\n",
       "0   20        0.858120\n",
       "1   24        0.864298\n",
       "2   30        0.869153\n",
       "3   40        0.876655"
      ]
     },
     "execution_count": 41,
     "metadata": {},
     "output_type": "execute_result"
    }
   ],
   "source": [
    "n_pca = [20,24,30,40]\n",
    "\n",
    "pca = []\n",
    "smote_x = []\n",
    "smote_y = []\n",
    "x_trains = []\n",
    "y_trains = []\n",
    "x_tests = []\n",
    "y_tests = []\n",
    "rf_models = []\n",
    "rf_accuracy_scores = []\n",
    "\n",
    "do_third_randomforest_smote('articleType')\n",
    "    \n",
    "df_rf_accuracy = pd.DataFrame(rf_accuracy_scores,index=n_pca,columns=['Accuracy Score'])\n",
    "df_rf_accuracy.index.name = 'PCA'\n",
    "df_rf_accuracy.reset_index()"
   ]
  },
  {
   "cell_type": "code",
   "execution_count": 42,
   "metadata": {},
   "outputs": [
    {
     "data": {
      "text/html": [
       "<div>\n",
       "<style scoped>\n",
       "    .dataframe tbody tr th:only-of-type {\n",
       "        vertical-align: middle;\n",
       "    }\n",
       "\n",
       "    .dataframe tbody tr th {\n",
       "        vertical-align: top;\n",
       "    }\n",
       "\n",
       "    .dataframe thead th {\n",
       "        text-align: right;\n",
       "    }\n",
       "</style>\n",
       "<table border=\"1\" class=\"dataframe\">\n",
       "  <thead>\n",
       "    <tr style=\"text-align: right;\">\n",
       "      <th></th>\n",
       "      <th>PCA</th>\n",
       "      <th>Accuracy Score</th>\n",
       "    </tr>\n",
       "  </thead>\n",
       "  <tbody>\n",
       "    <tr>\n",
       "      <td>0</td>\n",
       "      <td>20</td>\n",
       "      <td>0.849956</td>\n",
       "    </tr>\n",
       "    <tr>\n",
       "      <td>1</td>\n",
       "      <td>24</td>\n",
       "      <td>0.859444</td>\n",
       "    </tr>\n",
       "    <tr>\n",
       "      <td>2</td>\n",
       "      <td>30</td>\n",
       "      <td>0.865622</td>\n",
       "    </tr>\n",
       "    <tr>\n",
       "      <td>3</td>\n",
       "      <td>40</td>\n",
       "      <td>0.876214</td>\n",
       "    </tr>\n",
       "  </tbody>\n",
       "</table>\n",
       "</div>"
      ],
      "text/plain": [
       "   PCA  Accuracy Score\n",
       "0   20        0.849956\n",
       "1   24        0.859444\n",
       "2   30        0.865622\n",
       "3   40        0.876214"
      ]
     },
     "execution_count": 42,
     "metadata": {},
     "output_type": "execute_result"
    }
   ],
   "source": [
    "xgb_models = []\n",
    "xgb_accuracy_scores = []\n",
    "\n",
    "xgboost_smote()\n",
    "    \n",
    "df_xgb_accuracy = pd.DataFrame(xgb_accuracy_scores,index=n_pca,columns=['Accuracy Score'])\n",
    "df_xgb_accuracy.index.name = 'PCA'\n",
    "df_xgb_accuracy.reset_index()"
   ]
  },
  {
   "cell_type": "markdown",
   "metadata": {},
   "source": [
    "#### Without SMOTE"
   ]
  },
  {
   "cell_type": "code",
   "execution_count": 43,
   "metadata": {},
   "outputs": [
    {
     "data": {
      "text/html": [
       "<div>\n",
       "<style scoped>\n",
       "    .dataframe tbody tr th:only-of-type {\n",
       "        vertical-align: middle;\n",
       "    }\n",
       "\n",
       "    .dataframe tbody tr th {\n",
       "        vertical-align: top;\n",
       "    }\n",
       "\n",
       "    .dataframe thead th {\n",
       "        text-align: right;\n",
       "    }\n",
       "</style>\n",
       "<table border=\"1\" class=\"dataframe\">\n",
       "  <thead>\n",
       "    <tr style=\"text-align: right;\">\n",
       "      <th></th>\n",
       "      <th>PCA</th>\n",
       "      <th>Accuracy Score</th>\n",
       "    </tr>\n",
       "  </thead>\n",
       "  <tbody>\n",
       "    <tr>\n",
       "      <td>0</td>\n",
       "      <td>20</td>\n",
       "      <td>0.855914</td>\n",
       "    </tr>\n",
       "    <tr>\n",
       "      <td>1</td>\n",
       "      <td>24</td>\n",
       "      <td>0.860327</td>\n",
       "    </tr>\n",
       "    <tr>\n",
       "      <td>2</td>\n",
       "      <td>30</td>\n",
       "      <td>0.866064</td>\n",
       "    </tr>\n",
       "    <tr>\n",
       "      <td>3</td>\n",
       "      <td>40</td>\n",
       "      <td>0.871801</td>\n",
       "    </tr>\n",
       "  </tbody>\n",
       "</table>\n",
       "</div>"
      ],
      "text/plain": [
       "   PCA  Accuracy Score\n",
       "0   20        0.855914\n",
       "1   24        0.860327\n",
       "2   30        0.866064\n",
       "3   40        0.871801"
      ]
     },
     "execution_count": 43,
     "metadata": {},
     "output_type": "execute_result"
    }
   ],
   "source": [
    "rf_models_nosmote = []\n",
    "rf_accuracy_scores_nosmote = []\n",
    "\n",
    "randomforest_nosmote()\n",
    "    \n",
    "df_rf_accuracy_nosmote = pd.DataFrame(rf_accuracy_scores_nosmote,index=n_pca,columns=['Accuracy Score'])\n",
    "df_rf_accuracy_nosmote.index.name = 'PCA'\n",
    "df_rf_accuracy_nosmote.reset_index()"
   ]
  },
  {
   "cell_type": "code",
   "execution_count": 44,
   "metadata": {},
   "outputs": [
    {
     "data": {
      "text/html": [
       "<div>\n",
       "<style scoped>\n",
       "    .dataframe tbody tr th:only-of-type {\n",
       "        vertical-align: middle;\n",
       "    }\n",
       "\n",
       "    .dataframe tbody tr th {\n",
       "        vertical-align: top;\n",
       "    }\n",
       "\n",
       "    .dataframe thead th {\n",
       "        text-align: right;\n",
       "    }\n",
       "</style>\n",
       "<table border=\"1\" class=\"dataframe\">\n",
       "  <thead>\n",
       "    <tr style=\"text-align: right;\">\n",
       "      <th></th>\n",
       "      <th>PCA</th>\n",
       "      <th>Accuracy Score</th>\n",
       "    </tr>\n",
       "  </thead>\n",
       "  <tbody>\n",
       "    <tr>\n",
       "      <td>0</td>\n",
       "      <td>20</td>\n",
       "      <td>0.849956</td>\n",
       "    </tr>\n",
       "    <tr>\n",
       "      <td>1</td>\n",
       "      <td>24</td>\n",
       "      <td>0.854590</td>\n",
       "    </tr>\n",
       "    <tr>\n",
       "      <td>2</td>\n",
       "      <td>30</td>\n",
       "      <td>0.861871</td>\n",
       "    </tr>\n",
       "    <tr>\n",
       "      <td>3</td>\n",
       "      <td>40</td>\n",
       "      <td>0.873345</td>\n",
       "    </tr>\n",
       "  </tbody>\n",
       "</table>\n",
       "</div>"
      ],
      "text/plain": [
       "   PCA  Accuracy Score\n",
       "0   20        0.849956\n",
       "1   24        0.854590\n",
       "2   30        0.861871\n",
       "3   40        0.873345"
      ]
     },
     "execution_count": 44,
     "metadata": {},
     "output_type": "execute_result"
    }
   ],
   "source": [
    "xgb_models_nosmote = []\n",
    "xgb_accuracy_scores_nosmote = []\n",
    "\n",
    "xgboost_nosmote()\n",
    "    \n",
    "df_xgb_accuracy_nosmote = pd.DataFrame(xgb_accuracy_scores_nosmote,index=n_pca,columns=['Accuracy Score'])\n",
    "df_xgb_accuracy_nosmote.index.name = 'PCA'\n",
    "df_xgb_accuracy_nosmote.reset_index()"
   ]
  },
  {
   "cell_type": "markdown",
   "metadata": {},
   "source": [
    "> The result isn't still satisfying (<0.9) but the difference is noticable. So we will take the highest accuracy model which is random forest with SMOTE and PCA n=40"
   ]
  },
  {
   "cell_type": "code",
   "execution_count": 45,
   "metadata": {},
   "outputs": [],
   "source": [
    "model_articleType = rf_models[3]\n",
    "pickle.dump(model_articleType, open('model_articleType_final.sav', 'wb'))\n",
    "\n",
    "pca_articleType_n40 = pca[3]\n",
    "pickle.dump(pca_articleType_n40, open('pca_articleType_n40.sav', 'wb'))"
   ]
  },
  {
   "cell_type": "markdown",
   "metadata": {},
   "source": [
    "### Gender Prediction\n",
    "Because gender is a sub category of article type. We will design the model similar to the previous one which includes master and sub category as a feature. But now we add article type as a feature."
   ]
  },
  {
   "cell_type": "code",
   "execution_count": 46,
   "metadata": {},
   "outputs": [],
   "source": [
    "def do_fourth_randomforest_smote(col):\n",
    "    for i in n_pca:\n",
    "        # scaling\n",
    "        scaler = StandardScaler()\n",
    "        scaler.fit(df_embs)\n",
    "        scaled_data = scaler.transform(df_embs)\n",
    "\n",
    "        # pca\n",
    "        t_pca = PCA(n_components=i,random_state=101)\n",
    "        t_pca.fit(scaled_data)\n",
    "        pca.append(t_pca)\n",
    "        feature_pca = t_pca.transform(df_embs)\n",
    "        dfPCA = pd.DataFrame(feature_pca,columns=['PCA'+str(j) for j in range(1,i+1)])\n",
    "        \n",
    "        # adding feature\n",
    "        dfPCA = dfPCA.join(pd.get_dummies(df[['masterCategory']],drop_first=True))\n",
    "        dfPCA = dfPCA.join(pd.get_dummies(df[['subCategory']],drop_first=True))\n",
    "        dfPCA = dfPCA.join(pd.get_dummies(df[['articleType']],drop_first=True))\n",
    "\n",
    "        # split data\n",
    "        X = dfPCA\n",
    "        y = df[col]\n",
    "        X_train, X_test, y_train, y_test = train_test_split(X,y,test_size=0.2,random_state=101)\n",
    "\n",
    "        x_trains.append(X_train)\n",
    "        y_trains.append(y_train)\n",
    "        x_tests.append(X_test)\n",
    "        y_tests.append(y_test)\n",
    "        \n",
    "        # oversampling SMOTE\n",
    "        sm = SMOTE(random_state=101)\n",
    "        X_sm, y_sm = sm.fit_sample(X_train,y_train)\n",
    "        smote_x.append(X_sm)\n",
    "        smote_y.append(y_sm)\n",
    "\n",
    "        rf_accuracy_scores.append(get_score_randomforest(X_sm,X_test,y_sm,y_test))"
   ]
  },
  {
   "cell_type": "code",
   "execution_count": 47,
   "metadata": {},
   "outputs": [
    {
     "data": {
      "text/html": [
       "<div>\n",
       "<style scoped>\n",
       "    .dataframe tbody tr th:only-of-type {\n",
       "        vertical-align: middle;\n",
       "    }\n",
       "\n",
       "    .dataframe tbody tr th {\n",
       "        vertical-align: top;\n",
       "    }\n",
       "\n",
       "    .dataframe thead th {\n",
       "        text-align: right;\n",
       "    }\n",
       "</style>\n",
       "<table border=\"1\" class=\"dataframe\">\n",
       "  <thead>\n",
       "    <tr style=\"text-align: right;\">\n",
       "      <th></th>\n",
       "      <th>PCA</th>\n",
       "      <th>Accuracy Score</th>\n",
       "    </tr>\n",
       "  </thead>\n",
       "  <tbody>\n",
       "    <tr>\n",
       "      <td>0</td>\n",
       "      <td>20</td>\n",
       "      <td>0.887026</td>\n",
       "    </tr>\n",
       "    <tr>\n",
       "      <td>1</td>\n",
       "      <td>24</td>\n",
       "      <td>0.891659</td>\n",
       "    </tr>\n",
       "    <tr>\n",
       "      <td>2</td>\n",
       "      <td>30</td>\n",
       "      <td>0.895631</td>\n",
       "    </tr>\n",
       "    <tr>\n",
       "      <td>3</td>\n",
       "      <td>40</td>\n",
       "      <td>0.895852</td>\n",
       "    </tr>\n",
       "  </tbody>\n",
       "</table>\n",
       "</div>"
      ],
      "text/plain": [
       "   PCA  Accuracy Score\n",
       "0   20        0.887026\n",
       "1   24        0.891659\n",
       "2   30        0.895631\n",
       "3   40        0.895852"
      ]
     },
     "execution_count": 47,
     "metadata": {},
     "output_type": "execute_result"
    }
   ],
   "source": [
    "n_pca = [20,24,30,40]\n",
    "\n",
    "pca = []\n",
    "smote_x = []\n",
    "smote_y = []\n",
    "x_trains = []\n",
    "y_trains = []\n",
    "x_tests = []\n",
    "y_tests = []\n",
    "rf_models = []\n",
    "rf_accuracy_scores = []\n",
    "\n",
    "do_fourth_randomforest_smote('gender')\n",
    "    \n",
    "df_rf_accuracy = pd.DataFrame(rf_accuracy_scores,index=n_pca,columns=['Accuracy Score'])\n",
    "df_rf_accuracy.index.name = 'PCA'\n",
    "df_rf_accuracy.reset_index()"
   ]
  },
  {
   "cell_type": "code",
   "execution_count": 48,
   "metadata": {},
   "outputs": [
    {
     "data": {
      "text/html": [
       "<div>\n",
       "<style scoped>\n",
       "    .dataframe tbody tr th:only-of-type {\n",
       "        vertical-align: middle;\n",
       "    }\n",
       "\n",
       "    .dataframe tbody tr th {\n",
       "        vertical-align: top;\n",
       "    }\n",
       "\n",
       "    .dataframe thead th {\n",
       "        text-align: right;\n",
       "    }\n",
       "</style>\n",
       "<table border=\"1\" class=\"dataframe\">\n",
       "  <thead>\n",
       "    <tr style=\"text-align: right;\">\n",
       "      <th></th>\n",
       "      <th>PCA</th>\n",
       "      <th>Accuracy Score</th>\n",
       "    </tr>\n",
       "  </thead>\n",
       "  <tbody>\n",
       "    <tr>\n",
       "      <td>0</td>\n",
       "      <td>20</td>\n",
       "      <td>0.883936</td>\n",
       "    </tr>\n",
       "    <tr>\n",
       "      <td>1</td>\n",
       "      <td>24</td>\n",
       "      <td>0.892101</td>\n",
       "    </tr>\n",
       "    <tr>\n",
       "      <td>2</td>\n",
       "      <td>30</td>\n",
       "      <td>0.893866</td>\n",
       "    </tr>\n",
       "    <tr>\n",
       "      <td>3</td>\n",
       "      <td>40</td>\n",
       "      <td>0.889894</td>\n",
       "    </tr>\n",
       "  </tbody>\n",
       "</table>\n",
       "</div>"
      ],
      "text/plain": [
       "   PCA  Accuracy Score\n",
       "0   20        0.883936\n",
       "1   24        0.892101\n",
       "2   30        0.893866\n",
       "3   40        0.889894"
      ]
     },
     "execution_count": 48,
     "metadata": {},
     "output_type": "execute_result"
    }
   ],
   "source": [
    "xgb_models = []\n",
    "xgb_accuracy_scores = []\n",
    "\n",
    "xgboost_smote()\n",
    "    \n",
    "df_xgb_accuracy = pd.DataFrame(xgb_accuracy_scores,index=n_pca,columns=['Accuracy Score'])\n",
    "df_xgb_accuracy.index.name = 'PCA'\n",
    "df_xgb_accuracy.reset_index()"
   ]
  },
  {
   "cell_type": "markdown",
   "metadata": {},
   "source": [
    "#### Without SMOTE"
   ]
  },
  {
   "cell_type": "code",
   "execution_count": 49,
   "metadata": {},
   "outputs": [
    {
     "data": {
      "text/html": [
       "<div>\n",
       "<style scoped>\n",
       "    .dataframe tbody tr th:only-of-type {\n",
       "        vertical-align: middle;\n",
       "    }\n",
       "\n",
       "    .dataframe tbody tr th {\n",
       "        vertical-align: top;\n",
       "    }\n",
       "\n",
       "    .dataframe thead th {\n",
       "        text-align: right;\n",
       "    }\n",
       "</style>\n",
       "<table border=\"1\" class=\"dataframe\">\n",
       "  <thead>\n",
       "    <tr style=\"text-align: right;\">\n",
       "      <th></th>\n",
       "      <th>PCA</th>\n",
       "      <th>Accuracy Score</th>\n",
       "    </tr>\n",
       "  </thead>\n",
       "  <tbody>\n",
       "    <tr>\n",
       "      <td>0</td>\n",
       "      <td>20</td>\n",
       "      <td>0.891880</td>\n",
       "    </tr>\n",
       "    <tr>\n",
       "      <td>1</td>\n",
       "      <td>24</td>\n",
       "      <td>0.899603</td>\n",
       "    </tr>\n",
       "    <tr>\n",
       "      <td>2</td>\n",
       "      <td>30</td>\n",
       "      <td>0.896734</td>\n",
       "    </tr>\n",
       "    <tr>\n",
       "      <td>3</td>\n",
       "      <td>40</td>\n",
       "      <td>0.903354</td>\n",
       "    </tr>\n",
       "  </tbody>\n",
       "</table>\n",
       "</div>"
      ],
      "text/plain": [
       "   PCA  Accuracy Score\n",
       "0   20        0.891880\n",
       "1   24        0.899603\n",
       "2   30        0.896734\n",
       "3   40        0.903354"
      ]
     },
     "execution_count": 49,
     "metadata": {},
     "output_type": "execute_result"
    }
   ],
   "source": [
    "rf_models_nosmote = []\n",
    "rf_accuracy_scores_nosmote = []\n",
    "\n",
    "randomforest_nosmote()\n",
    "    \n",
    "df_rf_accuracy_nosmote = pd.DataFrame(rf_accuracy_scores_nosmote,index=n_pca,columns=['Accuracy Score'])\n",
    "df_rf_accuracy_nosmote.index.name = 'PCA'\n",
    "df_rf_accuracy_nosmote.reset_index()"
   ]
  },
  {
   "cell_type": "code",
   "execution_count": 50,
   "metadata": {},
   "outputs": [
    {
     "data": {
      "text/html": [
       "<div>\n",
       "<style scoped>\n",
       "    .dataframe tbody tr th:only-of-type {\n",
       "        vertical-align: middle;\n",
       "    }\n",
       "\n",
       "    .dataframe tbody tr th {\n",
       "        vertical-align: top;\n",
       "    }\n",
       "\n",
       "    .dataframe thead th {\n",
       "        text-align: right;\n",
       "    }\n",
       "</style>\n",
       "<table border=\"1\" class=\"dataframe\">\n",
       "  <thead>\n",
       "    <tr style=\"text-align: right;\">\n",
       "      <th></th>\n",
       "      <th>PCA</th>\n",
       "      <th>Accuracy Score</th>\n",
       "    </tr>\n",
       "  </thead>\n",
       "  <tbody>\n",
       "    <tr>\n",
       "      <td>0</td>\n",
       "      <td>20</td>\n",
       "      <td>0.892321</td>\n",
       "    </tr>\n",
       "    <tr>\n",
       "      <td>1</td>\n",
       "      <td>24</td>\n",
       "      <td>0.896072</td>\n",
       "    </tr>\n",
       "    <tr>\n",
       "      <td>2</td>\n",
       "      <td>30</td>\n",
       "      <td>0.903133</td>\n",
       "    </tr>\n",
       "    <tr>\n",
       "      <td>3</td>\n",
       "      <td>40</td>\n",
       "      <td>0.905340</td>\n",
       "    </tr>\n",
       "  </tbody>\n",
       "</table>\n",
       "</div>"
      ],
      "text/plain": [
       "   PCA  Accuracy Score\n",
       "0   20        0.892321\n",
       "1   24        0.896072\n",
       "2   30        0.903133\n",
       "3   40        0.905340"
      ]
     },
     "execution_count": 50,
     "metadata": {},
     "output_type": "execute_result"
    }
   ],
   "source": [
    "xgb_models_nosmote = []\n",
    "xgb_accuracy_scores_nosmote = []\n",
    "\n",
    "xgboost_nosmote()\n",
    "    \n",
    "df_xgb_accuracy_nosmote = pd.DataFrame(xgb_accuracy_scores_nosmote,index=n_pca,columns=['Accuracy Score'])\n",
    "df_xgb_accuracy_nosmote.index.name = 'PCA'\n",
    "df_xgb_accuracy_nosmote.reset_index()"
   ]
  },
  {
   "cell_type": "markdown",
   "metadata": {},
   "source": [
    "> The results are actually better than expected, remembering that gender's classes are mixed between categories. So we will take the best model, which is XGBoost without SMOTE and PCA n=40"
   ]
  },
  {
   "cell_type": "code",
   "execution_count": 51,
   "metadata": {},
   "outputs": [],
   "source": [
    "model_gender = xgb_models_nosmote[3]\n",
    "pickle.dump(model_gender, open('model_gender_final.sav', 'wb'))\n",
    "\n",
    "pca_gender_n40 = pca[3]\n",
    "pickle.dump(pca_gender_n40, open('pca_gender_n40.sav', 'wb'))"
   ]
  },
  {
   "cell_type": "markdown",
   "metadata": {},
   "source": [
    "### Hyperparameter on selected models\n",
    "In summary, we use the following models:\n",
    "- Master Category : XGBoost, with SMOTE, PCA n=20\n",
    "- Sub Category : Random Forest, with SMOTE, PCA n=40\n",
    "- Article Type : Random Forest, with SMOTE, PCA n=40\n",
    "- Gender : XGBoost, without SMOTE, PCA n=40"
   ]
  },
  {
   "cell_type": "markdown",
   "metadata": {},
   "source": [
    "#### Hyperparameter on Master Category"
   ]
  },
  {
   "cell_type": "code",
   "execution_count": 52,
   "metadata": {},
   "outputs": [],
   "source": [
    "from sklearn.model_selection import GridSearchCV\n",
    "\n",
    "def get_grid_search(col,n_pca,use_smote,grid_model,grid_param) :\n",
    "\n",
    "    grid = GridSearchCV(grid_model(random_state=101),grid_param, cv=3, scoring='accuracy')\n",
    "\n",
    "    if (col=='masterCategory'):\n",
    "        t_pca = pca_masterCategory_n20\n",
    "    elif (col=='subCategory'):\n",
    "        t_pca = pca_subCategory_n40\n",
    "    elif (col=='articleType'):\n",
    "        t_pca = pca_articleType_n40\n",
    "    elif (col=='gender'):\n",
    "        t_pca = pca_gender_n40\n",
    "\n",
    "    feature_pca = t_pca.transform(df_embs)\n",
    "    dfPCA = pd.DataFrame(feature_pca,columns=['PCA'+str(j) for j in range(1,n_pca+1)])\n",
    "\n",
    "    # adding features\n",
    "    if (not col=='masterCategory'):\n",
    "        dfPCA = dfPCA.join(pd.get_dummies(df[['masterCategory']],drop_first=True))\n",
    "    if (col=='articleType' or col=='gender'):\n",
    "        dfPCA = dfPCA.join(pd.get_dummies(df[['subCategory']],drop_first=True))\n",
    "    if (col=='gender'):\n",
    "        dfPCA = dfPCA.join(pd.get_dummies(df[['articleType']],drop_first=True))\n",
    "        \n",
    "    # split data\n",
    "    X = dfPCA\n",
    "    y = df[col]\n",
    "    X_train, X_test, y_train, y_test = train_test_split(X,y,test_size=0.2,random_state=101)\n",
    "\n",
    "    # oversampling SMOTE\n",
    "    if (use_smote):\n",
    "        sm = SMOTE(random_state=101)\n",
    "        X_sm, y_sm = sm.fit_sample(X_train,y_train)\n",
    "        X_train = X_sm\n",
    "        y_train = y_sm\n",
    "        \n",
    "    x_trains.append(X_train)\n",
    "    y_trains.append(y_train)\n",
    "    x_tests.append(X_test)\n",
    "    y_tests.append(y_test)\n",
    "    \n",
    "    grid.fit(X_train,y_train)\n",
    "\n",
    "    return grid"
   ]
  },
  {
   "cell_type": "code",
   "execution_count": 59,
   "metadata": {},
   "outputs": [
    {
     "data": {
      "text/plain": [
       "{'learning_rate': 0.3, 'max_depth': 4, 'min_child_weight': 1}"
      ]
     },
     "execution_count": 59,
     "metadata": {},
     "output_type": "execute_result"
    }
   ],
   "source": [
    "param = {\"learning_rate\" : [0.05, 0.15, 0.30 ],\n",
    "         \"max_depth\" : [ 4, 6, 8 ],\n",
    "         \"min_child_weight\" : [ 1, 3 ] }\n",
    "\n",
    "x_trains = []\n",
    "x_tests = []\n",
    "y_trains = []\n",
    "y_tests = []\n",
    "\n",
    "grid_mc = get_grid_search('masterCategory',20,True,XGBClassifier,param)\n",
    "grid_mc.best_params_"
   ]
  },
  {
   "cell_type": "code",
   "execution_count": 60,
   "metadata": {},
   "outputs": [
    {
     "name": "stdout",
     "output_type": "stream",
     "text": [
      "Accuracy Score Master Category Model: 0.9918358340688438\n"
     ]
    }
   ],
   "source": [
    "model_masterCategory = XGBClassifier(learning_rate=0.3, max_depth=4, min_child_weight=1, random_state=101)\n",
    "model_masterCategory.fit(x_trains[0],y_trains[0])\n",
    "\n",
    "pred = model_masterCategory.predict(x_tests[0])\n",
    "print('Accuracy Score Master Category Model: '+ str(accuracy_score(y_tests[0],pred)))"
   ]
  },
  {
   "cell_type": "markdown",
   "metadata": {},
   "source": [
    "#### Hyperparameter on Sub Category"
   ]
  },
  {
   "cell_type": "code",
   "execution_count": 61,
   "metadata": {},
   "outputs": [
    {
     "data": {
      "text/plain": [
       "{'max_depth': 60, 'min_samples_leaf': 1, 'min_samples_split': 2}"
      ]
     },
     "execution_count": 61,
     "metadata": {},
     "output_type": "execute_result"
    }
   ],
   "source": [
    "param = {'max_depth': [30, 60, 90, None],\n",
    "         'min_samples_leaf': [1, 2, 4],\n",
    "         'min_samples_split': [2, 5, 10]}\n",
    "\n",
    "x_trains = []\n",
    "x_tests = []\n",
    "y_trains = []\n",
    "y_tests = []\n",
    "\n",
    "grid_sc = get_grid_search('subCategory',40,True,RandomForestClassifier,param)\n",
    "grid_sc.best_params_"
   ]
  },
  {
   "cell_type": "code",
   "execution_count": 62,
   "metadata": {},
   "outputs": [
    {
     "name": "stdout",
     "output_type": "stream",
     "text": [
      "Accuracy Score Sub Category Model: 0.9541041482789056\n"
     ]
    }
   ],
   "source": [
    "model_subCategory = RandomForestClassifier(max_depth=60, min_samples_leaf=1, min_samples_split=2,random_state=101)\n",
    "model_subCategory.fit(x_trains[0],y_trains[0])\n",
    "\n",
    "pred = model_subCategory.predict(x_tests[0])\n",
    "print('Accuracy Score Sub Category Model: '+ str(accuracy_score(y_tests[0],pred)))"
   ]
  },
  {
   "cell_type": "markdown",
   "metadata": {},
   "source": [
    "#### Hyperparameter on Article Type"
   ]
  },
  {
   "cell_type": "code",
   "execution_count": 64,
   "metadata": {},
   "outputs": [
    {
     "data": {
      "text/plain": [
       "{'max_depth': 60, 'min_samples_leaf': 1, 'min_samples_split': 2}"
      ]
     },
     "execution_count": 64,
     "metadata": {},
     "output_type": "execute_result"
    }
   ],
   "source": [
    "param = {'max_depth': [30, 60, 90, None],\n",
    "         'min_samples_leaf': [1, 2, 4],\n",
    "         'min_samples_split': [2, 5, 10]}\n",
    "\n",
    "x_trains = []\n",
    "x_tests = []\n",
    "y_trains = []\n",
    "y_tests = []\n",
    "\n",
    "grid_at = get_grid_search('articleType',40,True,RandomForestClassifier,param)\n",
    "grid_at.best_params_"
   ]
  },
  {
   "cell_type": "code",
   "execution_count": 65,
   "metadata": {},
   "outputs": [
    {
     "name": "stdout",
     "output_type": "stream",
     "text": [
      "Accuracy Score Article Type Model: 0.8766548984995587\n"
     ]
    }
   ],
   "source": [
    "model_articleType = RandomForestClassifier(max_depth=60, min_samples_leaf=1, min_samples_split=2,random_state=101)\n",
    "model_articleType.fit(x_trains[0],y_trains[0])\n",
    "\n",
    "pred = model_articleType.predict(x_tests[0])\n",
    "print('Accuracy Score Article Type Model: '+ str(accuracy_score(y_tests[0],pred)))"
   ]
  },
  {
   "cell_type": "markdown",
   "metadata": {},
   "source": [
    "#### Hyperparameter on Gender"
   ]
  },
  {
   "cell_type": "code",
   "execution_count": 67,
   "metadata": {},
   "outputs": [
    {
     "data": {
      "text/plain": [
       "{'learning_rate': 0.3, 'max_depth': 8, 'min_child_weight': 1}"
      ]
     },
     "execution_count": 67,
     "metadata": {},
     "output_type": "execute_result"
    }
   ],
   "source": [
    "param = {\"learning_rate\" : [0.05, 0.15, 0.30 ],\n",
    "         \"max_depth\" : [ 4, 6, 8 ],\n",
    "         \"min_child_weight\" : [ 1, 3 ] }\n",
    "\n",
    "x_trains = []\n",
    "x_tests = []\n",
    "y_trains = []\n",
    "y_tests = []\n",
    "\n",
    "grid_g = get_grid_search('gender',40,False,XGBClassifier,param)\n",
    "grid_g.best_params_"
   ]
  },
  {
   "cell_type": "code",
   "execution_count": 68,
   "metadata": {},
   "outputs": [
    {
     "name": "stdout",
     "output_type": "stream",
     "text": [
      "Accuracy Score Gender Model: 0.9106354810238305\n"
     ]
    }
   ],
   "source": [
    "model_gender = XGBClassifier(learning_rate=0.3, max_depth=8, min_child_weight=1, random_state=101)\n",
    "model_gender.fit(x_trains[0],y_trains[0])\n",
    "\n",
    "pred = model_gender.predict(x_tests[0])\n",
    "print('Accuracy Score Gender Model: '+ str(accuracy_score(y_tests[0],pred)))"
   ]
  },
  {
   "cell_type": "markdown",
   "metadata": {},
   "source": [
    "### Saving Final Models"
   ]
  },
  {
   "cell_type": "code",
   "execution_count": 69,
   "metadata": {},
   "outputs": [],
   "source": [
    "pickle.dump(model_masterCategory, open('model_masterCategory_final_hyper.sav', 'wb'))\n",
    "pickle.dump(model_subCategory, open('model_subCategory_final_hyper.sav', 'wb'))\n",
    "pickle.dump(model_articleType, open('model_articleType_final_hyper.sav', 'wb'))\n",
    "pickle.dump(model_gender, open('model_gender_final_hyper.sav', 'wb'))"
   ]
  },
  {
   "cell_type": "code",
   "execution_count": null,
   "metadata": {},
   "outputs": [],
   "source": []
  },
  {
   "cell_type": "code",
   "execution_count": 70,
   "metadata": {},
   "outputs": [
    {
     "data": {
      "text/html": [
       "<div>\n",
       "<style scoped>\n",
       "    .dataframe tbody tr th:only-of-type {\n",
       "        vertical-align: middle;\n",
       "    }\n",
       "\n",
       "    .dataframe tbody tr th {\n",
       "        vertical-align: top;\n",
       "    }\n",
       "\n",
       "    .dataframe thead th {\n",
       "        text-align: right;\n",
       "    }\n",
       "</style>\n",
       "<table border=\"1\" class=\"dataframe\">\n",
       "  <thead>\n",
       "    <tr style=\"text-align: right;\">\n",
       "      <th></th>\n",
       "      <th>articleType_Belts</th>\n",
       "      <th>articleType_Bra</th>\n",
       "      <th>articleType_Briefs</th>\n",
       "      <th>articleType_Capris</th>\n",
       "      <th>articleType_Caps</th>\n",
       "      <th>articleType_Casual Shoes</th>\n",
       "      <th>articleType_Clutches</th>\n",
       "      <th>articleType_Deodorant</th>\n",
       "      <th>articleType_Dresses</th>\n",
       "      <th>articleType_Dupatta</th>\n",
       "      <th>...</th>\n",
       "      <th>articleType_Sweatshirts</th>\n",
       "      <th>articleType_Ties</th>\n",
       "      <th>articleType_Tops</th>\n",
       "      <th>articleType_Track Pants</th>\n",
       "      <th>articleType_Trousers</th>\n",
       "      <th>articleType_Trunk</th>\n",
       "      <th>articleType_Tshirts</th>\n",
       "      <th>articleType_Tunics</th>\n",
       "      <th>articleType_Wallets</th>\n",
       "      <th>articleType_Watches</th>\n",
       "    </tr>\n",
       "  </thead>\n",
       "  <tbody>\n",
       "    <tr>\n",
       "      <td>0</td>\n",
       "      <td>0</td>\n",
       "      <td>0</td>\n",
       "      <td>0</td>\n",
       "      <td>0</td>\n",
       "      <td>0</td>\n",
       "      <td>0</td>\n",
       "      <td>0</td>\n",
       "      <td>0</td>\n",
       "      <td>0</td>\n",
       "      <td>0</td>\n",
       "      <td>...</td>\n",
       "      <td>0</td>\n",
       "      <td>0</td>\n",
       "      <td>0</td>\n",
       "      <td>0</td>\n",
       "      <td>0</td>\n",
       "      <td>0</td>\n",
       "      <td>0</td>\n",
       "      <td>0</td>\n",
       "      <td>0</td>\n",
       "      <td>0</td>\n",
       "    </tr>\n",
       "    <tr>\n",
       "      <td>1</td>\n",
       "      <td>0</td>\n",
       "      <td>0</td>\n",
       "      <td>0</td>\n",
       "      <td>0</td>\n",
       "      <td>0</td>\n",
       "      <td>0</td>\n",
       "      <td>0</td>\n",
       "      <td>0</td>\n",
       "      <td>0</td>\n",
       "      <td>0</td>\n",
       "      <td>...</td>\n",
       "      <td>0</td>\n",
       "      <td>0</td>\n",
       "      <td>0</td>\n",
       "      <td>0</td>\n",
       "      <td>0</td>\n",
       "      <td>0</td>\n",
       "      <td>0</td>\n",
       "      <td>0</td>\n",
       "      <td>0</td>\n",
       "      <td>1</td>\n",
       "    </tr>\n",
       "    <tr>\n",
       "      <td>2</td>\n",
       "      <td>0</td>\n",
       "      <td>0</td>\n",
       "      <td>0</td>\n",
       "      <td>0</td>\n",
       "      <td>0</td>\n",
       "      <td>0</td>\n",
       "      <td>0</td>\n",
       "      <td>0</td>\n",
       "      <td>0</td>\n",
       "      <td>0</td>\n",
       "      <td>...</td>\n",
       "      <td>0</td>\n",
       "      <td>0</td>\n",
       "      <td>0</td>\n",
       "      <td>1</td>\n",
       "      <td>0</td>\n",
       "      <td>0</td>\n",
       "      <td>0</td>\n",
       "      <td>0</td>\n",
       "      <td>0</td>\n",
       "      <td>0</td>\n",
       "    </tr>\n",
       "    <tr>\n",
       "      <td>3</td>\n",
       "      <td>0</td>\n",
       "      <td>0</td>\n",
       "      <td>0</td>\n",
       "      <td>0</td>\n",
       "      <td>0</td>\n",
       "      <td>0</td>\n",
       "      <td>0</td>\n",
       "      <td>0</td>\n",
       "      <td>0</td>\n",
       "      <td>0</td>\n",
       "      <td>...</td>\n",
       "      <td>0</td>\n",
       "      <td>0</td>\n",
       "      <td>0</td>\n",
       "      <td>0</td>\n",
       "      <td>0</td>\n",
       "      <td>0</td>\n",
       "      <td>0</td>\n",
       "      <td>0</td>\n",
       "      <td>0</td>\n",
       "      <td>0</td>\n",
       "    </tr>\n",
       "    <tr>\n",
       "      <td>4</td>\n",
       "      <td>0</td>\n",
       "      <td>0</td>\n",
       "      <td>0</td>\n",
       "      <td>0</td>\n",
       "      <td>0</td>\n",
       "      <td>0</td>\n",
       "      <td>0</td>\n",
       "      <td>0</td>\n",
       "      <td>0</td>\n",
       "      <td>0</td>\n",
       "      <td>...</td>\n",
       "      <td>0</td>\n",
       "      <td>0</td>\n",
       "      <td>0</td>\n",
       "      <td>0</td>\n",
       "      <td>0</td>\n",
       "      <td>0</td>\n",
       "      <td>0</td>\n",
       "      <td>0</td>\n",
       "      <td>0</td>\n",
       "      <td>0</td>\n",
       "    </tr>\n",
       "    <tr>\n",
       "      <td>...</td>\n",
       "      <td>...</td>\n",
       "      <td>...</td>\n",
       "      <td>...</td>\n",
       "      <td>...</td>\n",
       "      <td>...</td>\n",
       "      <td>...</td>\n",
       "      <td>...</td>\n",
       "      <td>...</td>\n",
       "      <td>...</td>\n",
       "      <td>...</td>\n",
       "      <td>...</td>\n",
       "      <td>...</td>\n",
       "      <td>...</td>\n",
       "      <td>...</td>\n",
       "      <td>...</td>\n",
       "      <td>...</td>\n",
       "      <td>...</td>\n",
       "      <td>...</td>\n",
       "      <td>...</td>\n",
       "      <td>...</td>\n",
       "      <td>...</td>\n",
       "    </tr>\n",
       "    <tr>\n",
       "      <td>22651</td>\n",
       "      <td>0</td>\n",
       "      <td>0</td>\n",
       "      <td>0</td>\n",
       "      <td>0</td>\n",
       "      <td>0</td>\n",
       "      <td>0</td>\n",
       "      <td>0</td>\n",
       "      <td>0</td>\n",
       "      <td>0</td>\n",
       "      <td>0</td>\n",
       "      <td>...</td>\n",
       "      <td>0</td>\n",
       "      <td>0</td>\n",
       "      <td>0</td>\n",
       "      <td>0</td>\n",
       "      <td>0</td>\n",
       "      <td>0</td>\n",
       "      <td>1</td>\n",
       "      <td>0</td>\n",
       "      <td>0</td>\n",
       "      <td>0</td>\n",
       "    </tr>\n",
       "    <tr>\n",
       "      <td>22652</td>\n",
       "      <td>0</td>\n",
       "      <td>0</td>\n",
       "      <td>0</td>\n",
       "      <td>0</td>\n",
       "      <td>0</td>\n",
       "      <td>0</td>\n",
       "      <td>0</td>\n",
       "      <td>0</td>\n",
       "      <td>0</td>\n",
       "      <td>0</td>\n",
       "      <td>...</td>\n",
       "      <td>0</td>\n",
       "      <td>0</td>\n",
       "      <td>0</td>\n",
       "      <td>0</td>\n",
       "      <td>0</td>\n",
       "      <td>0</td>\n",
       "      <td>1</td>\n",
       "      <td>0</td>\n",
       "      <td>0</td>\n",
       "      <td>0</td>\n",
       "    </tr>\n",
       "    <tr>\n",
       "      <td>22653</td>\n",
       "      <td>0</td>\n",
       "      <td>0</td>\n",
       "      <td>0</td>\n",
       "      <td>0</td>\n",
       "      <td>0</td>\n",
       "      <td>0</td>\n",
       "      <td>0</td>\n",
       "      <td>0</td>\n",
       "      <td>0</td>\n",
       "      <td>0</td>\n",
       "      <td>...</td>\n",
       "      <td>0</td>\n",
       "      <td>0</td>\n",
       "      <td>0</td>\n",
       "      <td>0</td>\n",
       "      <td>0</td>\n",
       "      <td>0</td>\n",
       "      <td>1</td>\n",
       "      <td>0</td>\n",
       "      <td>0</td>\n",
       "      <td>0</td>\n",
       "    </tr>\n",
       "    <tr>\n",
       "      <td>22654</td>\n",
       "      <td>0</td>\n",
       "      <td>0</td>\n",
       "      <td>0</td>\n",
       "      <td>0</td>\n",
       "      <td>0</td>\n",
       "      <td>0</td>\n",
       "      <td>0</td>\n",
       "      <td>0</td>\n",
       "      <td>0</td>\n",
       "      <td>0</td>\n",
       "      <td>...</td>\n",
       "      <td>0</td>\n",
       "      <td>0</td>\n",
       "      <td>0</td>\n",
       "      <td>0</td>\n",
       "      <td>0</td>\n",
       "      <td>0</td>\n",
       "      <td>0</td>\n",
       "      <td>0</td>\n",
       "      <td>0</td>\n",
       "      <td>0</td>\n",
       "    </tr>\n",
       "    <tr>\n",
       "      <td>22655</td>\n",
       "      <td>0</td>\n",
       "      <td>0</td>\n",
       "      <td>0</td>\n",
       "      <td>0</td>\n",
       "      <td>0</td>\n",
       "      <td>0</td>\n",
       "      <td>0</td>\n",
       "      <td>0</td>\n",
       "      <td>0</td>\n",
       "      <td>0</td>\n",
       "      <td>...</td>\n",
       "      <td>0</td>\n",
       "      <td>0</td>\n",
       "      <td>0</td>\n",
       "      <td>0</td>\n",
       "      <td>0</td>\n",
       "      <td>0</td>\n",
       "      <td>0</td>\n",
       "      <td>0</td>\n",
       "      <td>0</td>\n",
       "      <td>0</td>\n",
       "    </tr>\n",
       "  </tbody>\n",
       "</table>\n",
       "<p>22656 rows × 47 columns</p>\n",
       "</div>"
      ],
      "text/plain": [
       "       articleType_Belts  articleType_Bra  articleType_Briefs  \\\n",
       "0                      0                0                   0   \n",
       "1                      0                0                   0   \n",
       "2                      0                0                   0   \n",
       "3                      0                0                   0   \n",
       "4                      0                0                   0   \n",
       "...                  ...              ...                 ...   \n",
       "22651                  0                0                   0   \n",
       "22652                  0                0                   0   \n",
       "22653                  0                0                   0   \n",
       "22654                  0                0                   0   \n",
       "22655                  0                0                   0   \n",
       "\n",
       "       articleType_Capris  articleType_Caps  articleType_Casual Shoes  \\\n",
       "0                       0                 0                         0   \n",
       "1                       0                 0                         0   \n",
       "2                       0                 0                         0   \n",
       "3                       0                 0                         0   \n",
       "4                       0                 0                         0   \n",
       "...                   ...               ...                       ...   \n",
       "22651                   0                 0                         0   \n",
       "22652                   0                 0                         0   \n",
       "22653                   0                 0                         0   \n",
       "22654                   0                 0                         0   \n",
       "22655                   0                 0                         0   \n",
       "\n",
       "       articleType_Clutches  articleType_Deodorant  articleType_Dresses  \\\n",
       "0                         0                      0                    0   \n",
       "1                         0                      0                    0   \n",
       "2                         0                      0                    0   \n",
       "3                         0                      0                    0   \n",
       "4                         0                      0                    0   \n",
       "...                     ...                    ...                  ...   \n",
       "22651                     0                      0                    0   \n",
       "22652                     0                      0                    0   \n",
       "22653                     0                      0                    0   \n",
       "22654                     0                      0                    0   \n",
       "22655                     0                      0                    0   \n",
       "\n",
       "       articleType_Dupatta  ...  articleType_Sweatshirts  articleType_Ties  \\\n",
       "0                        0  ...                        0                 0   \n",
       "1                        0  ...                        0                 0   \n",
       "2                        0  ...                        0                 0   \n",
       "3                        0  ...                        0                 0   \n",
       "4                        0  ...                        0                 0   \n",
       "...                    ...  ...                      ...               ...   \n",
       "22651                    0  ...                        0                 0   \n",
       "22652                    0  ...                        0                 0   \n",
       "22653                    0  ...                        0                 0   \n",
       "22654                    0  ...                        0                 0   \n",
       "22655                    0  ...                        0                 0   \n",
       "\n",
       "       articleType_Tops  articleType_Track Pants  articleType_Trousers  \\\n",
       "0                     0                        0                     0   \n",
       "1                     0                        0                     0   \n",
       "2                     0                        1                     0   \n",
       "3                     0                        0                     0   \n",
       "4                     0                        0                     0   \n",
       "...                 ...                      ...                   ...   \n",
       "22651                 0                        0                     0   \n",
       "22652                 0                        0                     0   \n",
       "22653                 0                        0                     0   \n",
       "22654                 0                        0                     0   \n",
       "22655                 0                        0                     0   \n",
       "\n",
       "       articleType_Trunk  articleType_Tshirts  articleType_Tunics  \\\n",
       "0                      0                    0                   0   \n",
       "1                      0                    0                   0   \n",
       "2                      0                    0                   0   \n",
       "3                      0                    0                   0   \n",
       "4                      0                    0                   0   \n",
       "...                  ...                  ...                 ...   \n",
       "22651                  0                    1                   0   \n",
       "22652                  0                    1                   0   \n",
       "22653                  0                    1                   0   \n",
       "22654                  0                    0                   0   \n",
       "22655                  0                    0                   0   \n",
       "\n",
       "       articleType_Wallets  articleType_Watches  \n",
       "0                        0                    0  \n",
       "1                        0                    1  \n",
       "2                        0                    0  \n",
       "3                        0                    0  \n",
       "4                        0                    0  \n",
       "...                    ...                  ...  \n",
       "22651                    0                    0  \n",
       "22652                    0                    0  \n",
       "22653                    0                    0  \n",
       "22654                    0                    0  \n",
       "22655                    0                    0  \n",
       "\n",
       "[22656 rows x 47 columns]"
      ]
     },
     "execution_count": 70,
     "metadata": {},
     "output_type": "execute_result"
    }
   ],
   "source": [
    "pd.get_dummies(df[['articleType']],drop_first=True)"
   ]
  },
  {
   "cell_type": "code",
   "execution_count": null,
   "metadata": {},
   "outputs": [],
   "source": []
  }
 ],
 "metadata": {
  "kernelspec": {
   "display_name": "Python 3",
   "language": "python",
   "name": "python3"
  },
  "language_info": {
   "codemirror_mode": {
    "name": "ipython",
    "version": 3
   },
   "file_extension": ".py",
   "mimetype": "text/x-python",
   "name": "python",
   "nbconvert_exporter": "python",
   "pygments_lexer": "ipython3",
   "version": "3.7.4"
  }
 },
 "nbformat": 4,
 "nbformat_minor": 2
}
